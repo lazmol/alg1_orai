{
 "cells": [
  {
   "cell_type": "markdown",
   "metadata": {},
   "source": [
    "# Rendezesek\n",
    "\n",
    "Az egyik legyakrabban elofrodulo problema, az adataink rendezese. Tobbfele rendezesi strategiat hasznalhatunk, melyek elterhetnek mind futasidoben, mint tarhely hasznalat szempontjabol. Mikor kivalasztjuk a megfelelo rendezesi strategiat, erdemes figyelembe venni, az adott algoritmus mit iger futasido szempontjabol a **legjobb**, **legrosszabb** es **atlagos** esetre.\n",
    "\n",
    "[Futasidok](https://en.wikipedia.org/wiki/Sorting_algorithm)\n",
    "\n",
    "[Animacio](https://www.youtube.com/watch?v=kPRA0W1kECg)"
   ]
  },
  {
   "cell_type": "code",
   "execution_count": 1,
   "metadata": {},
   "outputs": [],
   "source": [
    "def swap(a, b):\n",
    "    tmp = a\n",
    "    a = b\n",
    "    b = tmp"
   ]
  },
  {
   "cell_type": "markdown",
   "metadata": {},
   "source": [
    "## Buborekrendezes\n",
    "\n",
    "A [buborekrendezes](https://hu.wikipedia.org/wiki/Bubor%C3%A9krendez%C3%A9s) lenyege, hogy mindig osszehasonlitunk ket szomszedos elemet es ha a korabbi pozicioban nagyobb ertek all, akkor egesz egyszeruen megcsereljuk oket, igy a vegen az utolso pozicioba biztosan a legnagyobb elem kerul.\n",
    "\n",
    "### Pszeudokod\n",
    "\n",
    "**be**: t[N]  \n",
    "**ciklus** i = N-tol 1-ig  \n",
    "&nbsp;&nbsp;&nbsp;&nbsp;**ciklus** j = 1-tol i-1-ig  \n",
    "&nbsp;&nbsp;&nbsp;&nbsp;\n",
    "&nbsp;&nbsp;&nbsp;&nbsp;**ha** t[j] > t[j+1]  \n",
    "&nbsp;&nbsp;&nbsp;&nbsp;\n",
    "&nbsp;&nbsp;&nbsp;&nbsp;\n",
    "&nbsp;&nbsp;&nbsp;&nbsp;**akkor** csere(t[j], t[j+1])  \n",
    "&nbsp;&nbsp;&nbsp;&nbsp;**ciklus vege**  \n",
    "**ciklus vege**\n"
   ]
  },
  {
   "cell_type": "code",
   "execution_count": 2,
   "metadata": {},
   "outputs": [],
   "source": [
    "def bubble_sort(numbers):\n",
    "    pass"
   ]
  },
  {
   "cell_type": "markdown",
   "metadata": {},
   "source": [
    "## Kivalasztasos rendezes\n",
    "\n",
    "Ennel a rendezesnel valamelyik szelso erteket -*minimum*, *maximum*- fogjuk kivalasztani es adott korben a helyere tenni.\n",
    "\n",
    "### Pszeudokod\n",
    "\n",
    "**be**: t[N]  \n",
    "**ciklus** i = N-tol 1-ig  \n",
    "&nbsp;&nbsp;&nbsp;&nbsp;maxi := 1  \n",
    "&nbsp;&nbsp;&nbsp;&nbsp;**ciklus** j = 2-tol i-ig  \n",
    "&nbsp;&nbsp;&nbsp;&nbsp;\n",
    "&nbsp;&nbsp;&nbsp;&nbsp;**ha** t[maxi] < t[j]  \n",
    "&nbsp;&nbsp;&nbsp;&nbsp;\n",
    "&nbsp;&nbsp;&nbsp;&nbsp;\n",
    "&nbsp;&nbsp;&nbsp;&nbsp;**akkor** maxi := j  \n",
    "&nbsp;&nbsp;&nbsp;&nbsp;**ciklus vege**  \n",
    "&nbsp;&nbsp;&nbsp;&nbsp;csere(t[i],t[maxi])  \n",
    "**ciklus vege**"
   ]
  },
  {
   "cell_type": "code",
   "execution_count": 3,
   "metadata": {},
   "outputs": [],
   "source": [
    "def selection_short(numbers):\n",
    "    pass"
   ]
  },
  {
   "cell_type": "markdown",
   "metadata": {},
   "source": [
    "## Gyorsrendezes\n",
    "\n",
    "Ez egy rekurziv rendezesi algoritmus, aminek hatasara nagyon jol parhuzamosithato, hisz a rekurziv hivasok teljesen fuggetlenek egymastol. Az algoritmus tobb lepesbol all, eloszor kivalasztunk egy kituntetett (**pivot**) elemet. Ezek utan kulonvalogatjuk az ennel kisebb, illetve nagyobb elemeket a listabol. Rekurziv hivassal eloallitjuk a vegeredmenyt.\n",
    "\n",
    "### Pszeudokod\n",
    "\n",
    "**be**: t[N]  \n",
    "kivalasztott := t[1]  \n",
    "kisebbek := kicsi(t[2:], kivalasztott)  \n",
    "nagyobbak := nagy(t[2:], kivalasztott)  \n",
    "**ki**: gyorsrendezes(kisebbek) ++ [kivalasztott] ++ gyorsrendezes(nagyobbak)"
   ]
  },
  {
   "cell_type": "code",
   "execution_count": 3,
   "metadata": {},
   "outputs": [
    {
     "data": {
      "text/plain": [
       "[1, 2, 3, 5, 7]"
      ]
     },
     "execution_count": 3,
     "metadata": {},
     "output_type": "execute_result"
    }
   ],
   "source": [
    "def quick_sort(numbers):\n",
    "    if not numbers:\n",
    "        return []\n",
    "    pivot = numbers[0]\n",
    "    smaller = [n for n in numbers[1:] if n <= pivot]\n",
    "    larger = [n for n in numbers[1:] if n > pivot]\n",
    "    return quick_sort(smaller) + [pivot] + quick_sort(larger)\n",
    "quick_sort([3,1,5,7,2])"
   ]
  },
  {
   "cell_type": "code",
   "execution_count": null,
   "metadata": {},
   "outputs": [],
   "source": [
    "def quick_sort(numbers):\n",
    "    if not numbers:\n",
    "        return []\n",
    "    pivot = numbers[0]\n",
    "    smaller = [n for n in numbers[1:] if n <= pivot]\n",
    "    larger = [n for n in numbers[1:] if n > pivot]\n",
    "    return quick_sort(smaller[pivot] + quick_sort(larger)\n",
    "quick_sort([3,1,5,7,2])"
   ]
  },
  {
   "cell_type": "markdown",
   "metadata": {},
   "source": [
    "## Valasztott rendezes\n",
    "\n",
    "### Pszeudokod"
   ]
  },
  {
   "cell_type": "code",
   "execution_count": 5,
   "metadata": {},
   "outputs": [],
   "source": [
    "def your_sort(numbers):\n",
    "    pass"
   ]
  },
  {
   "cell_type": "markdown",
   "metadata": {},
   "source": [
    "## Fibonacci szamok"
   ]
  },
  {
   "cell_type": "code",
   "execution_count": 17,
   "metadata": {},
   "outputs": [],
   "source": [
    "def memoize(f):\n",
    "    memo = {}\n",
    "    def helper(x):\n",
    "        if x not in memo:            \n",
    "            memo[x] = f(x)\n",
    "        return memo[x]\n",
    "    return helper"
   ]
  },
  {
   "cell_type": "code",
   "execution_count": 27,
   "metadata": {},
   "outputs": [
    {
     "data": {
      "text/plain": [
       "377"
      ]
     },
     "execution_count": 27,
     "metadata": {},
     "output_type": "execute_result"
    }
   ],
   "source": [
    "@memoize\n",
    "def fibonacci_rec(n):\n",
    "    if n == 1:\n",
    "        return 0\n",
    "    elif n == 2:\n",
    "        return 1\n",
    "    else:\n",
    "        return fibonacci_rec(n - 1) + fibonacci_rec(n - 2)\n",
    "fibonacci_rec(15)"
   ]
  },
  {
   "cell_type": "code",
   "execution_count": 16,
   "metadata": {},
   "outputs": [
    {
     "data": {
      "text/plain": [
       "34"
      ]
     },
     "execution_count": 16,
     "metadata": {},
     "output_type": "execute_result"
    }
   ],
   "source": [
    "def fibonacci(n):\n",
    "    if n == 1:\n",
    "        return 0\n",
    "    elif n == 2:\n",
    "        return 1\n",
    "    else:\n",
    "        i1, i2 = 0, 1\n",
    "        for i in range(3, n):\n",
    "            i1, i2 = i2, i1 + i2\n",
    "        return i1 + i2\n",
    "fibonacci(10)\n",
    "    "
   ]
  },
  {
   "cell_type": "code",
   "execution_count": 28,
   "metadata": {},
   "outputs": [
    {
     "data": {
      "text/plain": [
       "0.00037477200385183096"
      ]
     },
     "execution_count": 28,
     "metadata": {},
     "output_type": "execute_result"
    }
   ],
   "source": [
    "import timeit\n",
    "timer_fib_rec = timeit.Timer('fibonacci_rec(10)', 'from __main__ import fibonacci_rec')\n",
    "timer_fib_rec.timeit(number=1000)"
   ]
  },
  {
   "cell_type": "code",
   "execution_count": 29,
   "metadata": {},
   "outputs": [
    {
     "data": {
      "text/plain": [
       "0.0003624099772423506"
      ]
     },
     "execution_count": 29,
     "metadata": {},
     "output_type": "execute_result"
    }
   ],
   "source": [
    "timer_fib = timeit.Timer('fibonacci(10)', 'from __main__ import fibonacci')\n",
    "timer_fib.timeit(number=1000)"
   ]
  },
  {
   "cell_type": "code",
   "execution_count": null,
   "metadata": {},
   "outputs": [],
   "source": []
  }
 ],
 "metadata": {
  "kernelspec": {
   "display_name": "Python 3",
   "language": "python",
   "name": "python3"
  },
  "language_info": {
   "codemirror_mode": {
    "name": "ipython",
    "version": 3
   },
   "file_extension": ".py",
   "mimetype": "text/x-python",
   "name": "python",
   "nbconvert_exporter": "python",
   "pygments_lexer": "ipython3",
   "version": "3.6.5"
  }
 },
 "nbformat": 4,
 "nbformat_minor": 2
}
