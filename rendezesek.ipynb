{
 "cells": [
  {
   "cell_type": "markdown",
   "metadata": {},
   "source": [
    "# Rendezesek\n",
    "\n",
    "Az egyik legyakrabban elofrodulo problema, az adataink rendezese. Tobbfele rendezesi strategiat hasznalhatunk, melyek elterhetnek mind futasidoben, mint tarhely hasznalat szempontjabol. Mikor kivalasztjuk a megfelelo rendezesi strategiat, erdemes figyelembe venni, az adott algoritmus mit iger futasido szempontjabol a **legjobb**, **legrosszabb** es **atlagos** esetre.\n",
    "\n",
    "[Futasidok](https://en.wikipedia.org/wiki/Sorting_algorithm)\n",
    "\n",
    "[Animacio](https://www.youtube.com/watch?v=kPRA0W1kECg)"
   ]
  },
  {
   "cell_type": "code",
   "execution_count": 40,
   "metadata": {},
   "outputs": [],
   "source": [
    "def swap(a, b):\n",
    "    tmp = a\n",
    "    a = b\n",
    "    b = tmp\n",
    "    return a, b\n",
    "def swap(a, b):\n",
    "    return b, a"
   ]
  },
  {
   "cell_type": "code",
   "execution_count": 41,
   "metadata": {},
   "outputs": [
    {
     "name": "stdout",
     "output_type": "stream",
     "text": [
      "4 5\n"
     ]
    }
   ],
   "source": [
    "# in python\n",
    "a = 5\n",
    "b = 4\n",
    "a, b = b, a\n",
    "print(a, b)"
   ]
  },
  {
   "cell_type": "markdown",
   "metadata": {},
   "source": [
    "## Buborekrendezes\n",
    "\n",
    "A [buborekrendezes](https://hu.wikipedia.org/wiki/Bubor%C3%A9krendez%C3%A9s) lenyege, hogy mindig osszehasonlitunk ket szomszedos elemet es ha a korabbi pozicioban nagyobb ertek all, akkor egesz egyszeruen megcsereljuk oket, igy a vegen az utolso pozicioba biztosan a legnagyobb elem kerul.\n",
    "\n",
    "### Pszeudokod\n",
    "\n",
    "**be**: t[N]  \n",
    "**ciklus** i = N-tol 1-ig  \n",
    "&nbsp;&nbsp;&nbsp;&nbsp;**ciklus** j = 1-tol i-1-ig  \n",
    "&nbsp;&nbsp;&nbsp;&nbsp;\n",
    "&nbsp;&nbsp;&nbsp;&nbsp;**ha** t[j] > t[j+1]  \n",
    "&nbsp;&nbsp;&nbsp;&nbsp;\n",
    "&nbsp;&nbsp;&nbsp;&nbsp;\n",
    "&nbsp;&nbsp;&nbsp;&nbsp;**akkor** csere(t[j], t[j+1])  \n",
    "&nbsp;&nbsp;&nbsp;&nbsp;**ciklus vege**  \n",
    "**ciklus vege**\n"
   ]
  },
  {
   "cell_type": "code",
   "execution_count": 56,
   "metadata": {},
   "outputs": [],
   "source": [
    "def bubble_sort(numbers):\n",
    "    for i in range(len(numbers)-1,0,-1):\n",
    "        for j in range(0, i):\n",
    "            if numbers[j] > numbers[j+1]:\n",
    "                tmp = numbers[j]\n",
    "                numbers[j] = numbers[j+1]\n",
    "                numbers[j+1] = tmp\n",
    "    return numbers"
   ]
  },
  {
   "cell_type": "code",
   "execution_count": 57,
   "metadata": {},
   "outputs": [
    {
     "name": "stdout",
     "output_type": "stream",
     "text": [
      "[1, 2, 3, 4, 5, 6, 7, 8, 9, 10, 11, 12, 13, 14, 15, 16, 17, 18, 19, 20, 21, 22, 23, 24, 25, 26, 27, 28, 29, 30, 31, 32, 33, 34, 35, 36, 37, 38, 39, 40, 41, 42, 43, 44, 45, 46, 47, 48, 49, 50, 51, 52, 53, 54, 55, 56, 57, 58, 59, 60, 61, 62, 63, 64, 65, 66, 67, 68, 69, 70, 71, 72, 73, 74, 75, 76, 77, 78, 79, 80, 81, 82, 83, 84, 85, 86, 87, 88, 89, 90, 91, 92, 93, 94, 95, 96, 97, 98, 99, 100]\n"
     ]
    }
   ],
   "source": [
    "print(bubble_sort([x for x in range(100,0,-1)]))"
   ]
  },
  {
   "cell_type": "markdown",
   "metadata": {},
   "source": [
    "## Kivalasztasos rendezes\n",
    "\n",
    "Ennel a rendezesnel valamelyik szelso erteket -*minimum*, *maximum*- fogjuk kivalasztani es adott korben a helyere tenni.\n",
    "\n",
    "### Pszeudokod\n",
    "\n",
    "**be**: t[N]  \n",
    "**ciklus** i = N-tol 1-ig  \n",
    "&nbsp;&nbsp;&nbsp;&nbsp;maxi := 1  \n",
    "&nbsp;&nbsp;&nbsp;&nbsp;**ciklus** j = 2-tol i-ig  \n",
    "&nbsp;&nbsp;&nbsp;&nbsp;\n",
    "&nbsp;&nbsp;&nbsp;&nbsp;**ha** t[maxi] < t[j]  \n",
    "&nbsp;&nbsp;&nbsp;&nbsp;\n",
    "&nbsp;&nbsp;&nbsp;&nbsp;\n",
    "&nbsp;&nbsp;&nbsp;&nbsp;**akkor** maxi := j  \n",
    "&nbsp;&nbsp;&nbsp;&nbsp;**ciklus vege**  \n",
    "&nbsp;&nbsp;&nbsp;&nbsp;csere(t[i],t[maxi])  \n",
    "**ciklus vege**"
   ]
  },
  {
   "cell_type": "code",
   "execution_count": 54,
   "metadata": {},
   "outputs": [],
   "source": [
    "def selection_short(numbers):\n",
    "    for i in range(len(numbers)-1,0,-1):\n",
    "        maxi = 0\n",
    "        for j in range(1,i+1):\n",
    "            if numbers[maxi] < numbers[j]:\n",
    "                maxi = j\n",
    "        tmp = numbers[maxi]\n",
    "        numbers[maxi] = numbers[i]\n",
    "        numbers[i] = tmp\n",
    "    return numbers"
   ]
  },
  {
   "cell_type": "code",
   "execution_count": 55,
   "metadata": {},
   "outputs": [
    {
     "name": "stdout",
     "output_type": "stream",
     "text": [
      "[1, 2, 3, 4, 5, 6, 7, 8, 9, 10, 11, 12, 13, 14, 15, 16, 17, 18, 19, 20, 21, 22, 23, 24, 25, 26, 27, 28, 29, 30, 31, 32, 33, 34, 35, 36, 37, 38, 39, 40, 41, 42, 43, 44, 45, 46, 47, 48, 49, 50, 51, 52, 53, 54, 55, 56, 57, 58, 59, 60, 61, 62, 63, 64, 65, 66, 67, 68, 69, 70, 71, 72, 73, 74, 75, 76, 77, 78, 79, 80, 81, 82, 83, 84, 85, 86, 87, 88, 89, 90, 91, 92, 93, 94, 95, 96, 97, 98, 99, 100]\n"
     ]
    }
   ],
   "source": [
    "print(selection_short([x for x in range(100,0,-1)]))"
   ]
  },
  {
   "cell_type": "markdown",
   "metadata": {},
   "source": [
    "## Gyorsrendezes\n",
    "\n",
    "Ez egy rekurziv rendezesi algoritmus, aminek hatasara nagyon jol parhuzamosithato, hisz a rekurziv hivasok teljesen fuggetlenek egymastol. Az algoritmus tobb lepesbol all, eloszor kivalasztunk egy kituntetett (**pivot**) elemet. Ezek utan kulonvalogatjuk az ennel kisebb, illetve nagyobb elemeket a listabol. Rekurziv hivassal eloallitjuk a vegeredmenyt.\n",
    "\n",
    "### Pszeudokod\n",
    "\n",
    "**be**: t[N]  \n",
    "kivalasztott := t[1]  \n",
    "kisebbek := kicsi(t[2:], kivalasztott)  \n",
    "nagyobbak := nagy(t[2:], kivalasztott)  \n",
    "**ki**: gyorsrendezes(kisebbek) ++ [kivalasztott] ++ gyorsrendezes(nagyobbak)"
   ]
  },
  {
   "cell_type": "code",
   "execution_count": 49,
   "metadata": {},
   "outputs": [],
   "source": [
    "def quick_sort(numbers):\n",
    "    if not numbers:\n",
    "        return []\n",
    "    pivot = numbers[0]\n",
    "    smaller = [n for n in numbers[1:] if n <= pivot]\n",
    "    larger = [n for n in numbers[1:] if n > pivot]\n",
    "    return quick_sort(smaller) + [pivot] + quick_sort(larger)"
   ]
  },
  {
   "cell_type": "code",
   "execution_count": 52,
   "metadata": {},
   "outputs": [
    {
     "name": "stdout",
     "output_type": "stream",
     "text": [
      "[1, 2, 3, 4, 5, 6, 7, 8, 9, 10, 11, 12, 13, 14, 15, 16, 17, 18, 19, 20, 21, 22, 23, 24, 25, 26, 27, 28, 29, 30, 31, 32, 33, 34, 35, 36, 37, 38, 39, 40, 41, 42, 43, 44, 45, 46, 47, 48, 49, 50, 51, 52, 53, 54, 55, 56, 57, 58, 59, 60, 61, 62, 63, 64, 65, 66, 67, 68, 69, 70, 71, 72, 73, 74, 75, 76, 77, 78, 79, 80, 81, 82, 83, 84, 85, 86, 87, 88, 89, 90, 91, 92, 93, 94, 95, 96, 97, 98, 99, 100]\n"
     ]
    }
   ],
   "source": [
    "print(quick_sort([x for x in range(100,0,-1)]))"
   ]
  },
  {
   "cell_type": "markdown",
   "metadata": {},
   "source": [
    "## Valasztott rendezes - Shell sort https://en.wikipedia.org/wiki/Shellsort\n",
    "\n",
    "### Pszeudokod on wiki page"
   ]
  },
  {
   "cell_type": "code",
   "execution_count": 39,
   "metadata": {
    "scrolled": true
   },
   "outputs": [
    {
     "data": {
      "text/plain": [
       "[7, 7, 8, 8, 12, 12, 13, 13, 25, 32]"
      ]
     },
     "execution_count": 39,
     "metadata": {},
     "output_type": "execute_result"
    }
   ],
   "source": [
    "def shellsort(numbers):\n",
    "    gaps = [701, 301, 132, 57, 23, 10, 4, 1]\n",
    "    for gap in gaps:\n",
    "        for i in range(gap, len(numbers)):\n",
    "            temp = numbers[i]\n",
    "            # for j in [n for n in range(i, 0, -gap) if n >= gap and numbers[n-gap] > temp]:\n",
    "            #     numbers[j] = numbers[j - gap]\n",
    "            j = i\n",
    "            while j >= gap and numbers[j-gap] > temp:\n",
    "                numbers[j] = numbers[j-gap]\n",
    "                j -= gap\n",
    "            numbers[j] = temp\n",
    "    return numbers\n",
    "#shellsort([3, 2, 1])\n",
    "shellsort([32, 25, 8, 13, 12, 7, 8, 13, 12, 7])"
   ]
  }
 ],
 "metadata": {
  "kernelspec": {
   "display_name": "Python 3",
   "language": "python",
   "name": "python3"
  },
  "language_info": {
   "codemirror_mode": {
    "name": "ipython",
    "version": 3
   },
   "file_extension": ".py",
   "mimetype": "text/x-python",
   "name": "python",
   "nbconvert_exporter": "python",
   "pygments_lexer": "ipython3",
   "version": "3.6.5"
  }
 },
 "nbformat": 4,
 "nbformat_minor": 2
}
