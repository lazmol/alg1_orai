{
 "cells": [
  {
   "cell_type": "markdown",
   "metadata": {},
   "source": [
    "# Rendezesek\n",
    "\n",
    "Az egyik legyakrabban elofrodulo problema, az adataink rendezese. Tobbfele rendezesi strategiat hasznalhatunk, melyek elterhetnek mind futasidoben, mint tarhely hasznalat szempontjabol. Mikor kivalasztjuk a megfelelo rendezesi strategiat, erdemes figyelembe venni, az adott algoritmus mit iger futasido szempontjabol a **legjobb**, **legrosszabb** es **atlagos** esetre.\n",
    "\n",
    "[Futasidok](https://en.wikipedia.org/wiki/Sorting_algorithm)\n",
    "\n",
    "[Animacio](https://www.youtube.com/watch?v=kPRA0W1kECg)"
   ]
  },
  {
   "cell_type": "code",
   "execution_count": 5,
   "metadata": {},
   "outputs": [],
   "source": [
    "def swap(a,b):\n",
    "    return b,a"
   ]
  },
  {
   "cell_type": "code",
   "execution_count": 7,
   "metadata": {},
   "outputs": [
    {
     "name": "stdout",
     "output_type": "stream",
     "text": [
      "4 5\n"
     ]
    }
   ],
   "source": [
    "a = 5\n",
    "b = 4\n",
    "a,b = swap(a,b)\n",
    "print(a,b)"
   ]
  },
  {
   "cell_type": "markdown",
   "metadata": {},
   "source": [
    "## Buborekrendezes\n",
    "\n",
    "A [buborekrendezes](https://hu.wikipedia.org/wiki/Bubor%C3%A9krendez%C3%A9s) lenyege, hogy mindig osszehasonlitunk ket szomszedos elemet es ha a korabbi pozicioban nagyobb ertek all, akkor egesz egyszeruen megcsereljuk oket, igy a vegen az utolso pozicioba biztosan a legnagyobb elem kerul.\n",
    "\n",
    "### Pszeudokod\n",
    "\n",
    "**be**: t[N]  \n",
    "**ciklus** i = N-tol 1-ig  \n",
    "&nbsp;&nbsp;&nbsp;&nbsp;**ciklus** j = 1-tol i-1-ig  \n",
    "&nbsp;&nbsp;&nbsp;&nbsp;\n",
    "&nbsp;&nbsp;&nbsp;&nbsp;**ha** t[j] > t[j+1]  \n",
    "&nbsp;&nbsp;&nbsp;&nbsp;\n",
    "&nbsp;&nbsp;&nbsp;&nbsp;\n",
    "&nbsp;&nbsp;&nbsp;&nbsp;**akkor** csere(t[j], t[j+1])  \n",
    "&nbsp;&nbsp;&nbsp;&nbsp;**ciklus vege**  \n",
    "**ciklus vege**\n"
   ]
  },
  {
   "cell_type": "code",
   "execution_count": 8,
   "metadata": {},
   "outputs": [],
   "source": [
    "def bubble_sort(numbers):\n",
    "    for i in range(len(numbers)-1,0,-1):\n",
    "        for j in range(0, i):\n",
    "            if numbers[j] > numbers[j+1]:\n",
    "                tmp = numbers[j]\n",
    "                numbers[j] = numbers[j+1]\n",
    "                numbers[j+1] = tmp"
   ]
  },
  {
   "cell_type": "code",
   "execution_count": 11,
   "metadata": {},
   "outputs": [
    {
     "name": "stdout",
     "output_type": "stream",
     "text": [
      "[100, 99, 98, 97, 96, 95, 94, 93, 92, 91, 90, 89, 88, 87, 86, 85, 84, 83, 82, 81, 80, 79, 78, 77, 76, 75, 74, 73, 72, 71, 70, 69, 68, 67, 66, 65, 64, 63, 62, 61, 60, 59, 58, 57, 56, 55, 54, 53, 52, 51, 50, 49, 48, 47, 46, 45, 44, 43, 42, 41, 40, 39, 38, 37, 36, 35, 34, 33, 32, 31, 30, 29, 28, 27, 26, 25, 24, 23, 22, 21, 20, 19, 18, 17, 16, 15, 14, 13, 12, 11, 10, 9, 8, 7, 6, 5, 4, 3, 2, 1]\n",
      "\n",
      "[1, 2, 3, 4, 5, 6, 7, 8, 9, 10, 11, 12, 13, 14, 15, 16, 17, 18, 19, 20, 21, 22, 23, 24, 25, 26, 27, 28, 29, 30, 31, 32, 33, 34, 35, 36, 37, 38, 39, 40, 41, 42, 43, 44, 45, 46, 47, 48, 49, 50, 51, 52, 53, 54, 55, 56, 57, 58, 59, 60, 61, 62, 63, 64, 65, 66, 67, 68, 69, 70, 71, 72, 73, 74, 75, 76, 77, 78, 79, 80, 81, 82, 83, 84, 85, 86, 87, 88, 89, 90, 91, 92, 93, 94, 95, 96, 97, 98, 99, 100]\n"
     ]
    }
   ],
   "source": [
    "numbers = [x for x in range(100,0,-1)]\n",
    "print(numbers)\n",
    "print()\n",
    "bubble_sort(numbers)\n",
    "print(numbers)"
   ]
  },
  {
   "cell_type": "markdown",
   "metadata": {},
   "source": [
    "## Kivalasztasos rendezes\n",
    "\n",
    "Ennel a rendezesnel valamelyik szelso erteket -*minimum*, *maximum*- fogjuk kivalasztani es adott korben a helyere tenni.\n",
    "\n",
    "### Pszeudokod\n",
    "\n",
    "**be**: t[N]  \n",
    "**ciklus** i = N-tol 1-ig  \n",
    "&nbsp;&nbsp;&nbsp;&nbsp;maxi := 1  \n",
    "&nbsp;&nbsp;&nbsp;&nbsp;**ciklus** j = 2-tol i-ig  \n",
    "&nbsp;&nbsp;&nbsp;&nbsp;\n",
    "&nbsp;&nbsp;&nbsp;&nbsp;**ha** t[maxi] < t[j]  \n",
    "&nbsp;&nbsp;&nbsp;&nbsp;\n",
    "&nbsp;&nbsp;&nbsp;&nbsp;\n",
    "&nbsp;&nbsp;&nbsp;&nbsp;**akkor** maxi := j  \n",
    "&nbsp;&nbsp;&nbsp;&nbsp;**ciklus vege**  \n",
    "&nbsp;&nbsp;&nbsp;&nbsp;csere(t[i],t[maxi])  \n",
    "**ciklus vege**"
   ]
  },
  {
   "cell_type": "code",
   "execution_count": 12,
   "metadata": {},
   "outputs": [],
   "source": [
    "def selection_short(numbers):\n",
    "    for i in range(len(numbers)-1,0,-1):\n",
    "        maxi = 0\n",
    "        for j in range(1,i+1):\n",
    "            if numbers[maxi] < numbers[j]:\n",
    "                maxi = j\n",
    "        tmp = numbers[maxi]\n",
    "        numbers[maxi] = numbers[i]\n",
    "        numbers[i] = tmp"
   ]
  },
  {
   "cell_type": "code",
   "execution_count": 14,
   "metadata": {},
   "outputs": [
    {
     "name": "stdout",
     "output_type": "stream",
     "text": [
      "[100, 99, 98, 97, 96, 95, 94, 93, 92, 91, 90, 89, 88, 87, 86, 85, 84, 83, 82, 81, 80, 79, 78, 77, 76, 75, 74, 73, 72, 71, 70, 69, 68, 67, 66, 65, 64, 63, 62, 61, 60, 59, 58, 57, 56, 55, 54, 53, 52, 51, 50, 49, 48, 47, 46, 45, 44, 43, 42, 41, 40, 39, 38, 37, 36, 35, 34, 33, 32, 31, 30, 29, 28, 27, 26, 25, 24, 23, 22, 21, 20, 19, 18, 17, 16, 15, 14, 13, 12, 11, 10, 9, 8, 7, 6, 5, 4, 3, 2, 1]\n",
      "\n",
      "[1, 2, 3, 4, 5, 6, 7, 8, 9, 10, 11, 12, 13, 14, 15, 16, 17, 18, 19, 20, 21, 22, 23, 24, 25, 26, 27, 28, 29, 30, 31, 32, 33, 34, 35, 36, 37, 38, 39, 40, 41, 42, 43, 44, 45, 46, 47, 48, 49, 50, 51, 52, 53, 54, 55, 56, 57, 58, 59, 60, 61, 62, 63, 64, 65, 66, 67, 68, 69, 70, 71, 72, 73, 74, 75, 76, 77, 78, 79, 80, 81, 82, 83, 84, 85, 86, 87, 88, 89, 90, 91, 92, 93, 94, 95, 96, 97, 98, 99, 100]\n"
     ]
    }
   ],
   "source": [
    "numbers = [x for x in range(100,0,-1)]\n",
    "print(numbers)\n",
    "print()\n",
    "selection_short(numbers)\n",
    "print(numbers)"
   ]
  },
  {
   "cell_type": "markdown",
   "metadata": {},
   "source": [
    "## Gyorsrendezes\n",
    "\n",
    "Ez egy rekurziv rendezesi algoritmus, aminek hatasara nagyon jol parhuzamosithato, hisz a rekurziv hivasok teljesen fuggetlenek egymastol. Az algoritmus tobb lepesbol all, eloszor kivalasztunk egy kituntetett (**pivot**) elemet. Ezek utan kulonvalogatjuk az ennel kisebb, illetve nagyobb elemeket a listabol. Rekurziv hivassal eloallitjuk a vegeredmenyt.\n",
    "\n",
    "### Pszeudokod\n",
    "\n",
    "**be**: t[N]  \n",
    "kivalasztott := t[1]  \n",
    "kisebbek := kicsi(t[2:], kivalasztott)  \n",
    "nagyobbak := nagy(t[2:], kivalasztott)  \n",
    "**ki**: gyorsrendezes(kisebbek) ++ [kivalasztott] ++ gyorsrendezes(nagyobbak)"
   ]
  },
  {
   "cell_type": "code",
   "execution_count": 8,
   "metadata": {},
   "outputs": [],
   "source": [
    "def smaller(numbers, num):\n",
    "    return [x for x in numbers if x < num]\n",
    "    '''\n",
    "    small_nums = []\n",
    "    for elem in numbers:\n",
    "        if elem < num:\n",
    "            small_nums.append(elem)\n",
    "    return small_nums\n",
    "    '''\n",
    "\n",
    "def higher(numbers, num):\n",
    "    return [x for x in numbers if x >= num]\n",
    "\n",
    "def quick_sort(numbers):\n",
    "    if numbers == []:\n",
    "        return []\n",
    "    pivot = numbers[0]\n",
    "    # smaller_nums = [number for number in numbers if number < pivot]\n",
    "    smaller_nums = smaller(numbers[1:], pivot)\n",
    "    # higher_nums = [number for number in numbers if number >= pivot]\n",
    "    higher_nums = higher(numbers[1:], pivot)\n",
    "    ''' \n",
    "    return quick_sort([number for number in numbers if number < numbers[0]]) \\\n",
    "             + [numbers[0]] \\\n",
    "             + quick_sort([number for number in numbers if number >= numbers[0]])\n",
    "    '''\n",
    "    return quick_sort(smaller_nums) + [pivot] + quick_sort(higher_nums)\n",
    "    "
   ]
  },
  {
   "cell_type": "code",
   "execution_count": 9,
   "metadata": {},
   "outputs": [
    {
     "name": "stdout",
     "output_type": "stream",
     "text": [
      "[100, 99, 98, 97, 96, 95, 94, 93, 92, 91, 90, 89, 88, 87, 86, 85, 84, 83, 82, 81, 80, 79, 78, 77, 76, 75, 74, 73, 72, 71, 70, 69, 68, 67, 66, 65, 64, 63, 62, 61, 60, 59, 58, 57, 56, 55, 54, 53, 52, 51, 50, 49, 48, 47, 46, 45, 44, 43, 42, 41, 40, 39, 38, 37, 36, 35, 34, 33, 32, 31, 30, 29, 28, 27, 26, 25, 24, 23, 22, 21, 20, 19, 18, 17, 16, 15, 14, 13, 12, 11, 10, 9, 8, 7, 6, 5, 4, 3, 2, 1]\n",
      "\n",
      "[1, 2, 3, 4, 5, 6, 7, 8, 9, 10, 11, 12, 13, 14, 15, 16, 17, 18, 19, 20, 21, 22, 23, 24, 25, 26, 27, 28, 29, 30, 31, 32, 33, 34, 35, 36, 37, 38, 39, 40, 41, 42, 43, 44, 45, 46, 47, 48, 49, 50, 51, 52, 53, 54, 55, 56, 57, 58, 59, 60, 61, 62, 63, 64, 65, 66, 67, 68, 69, 70, 71, 72, 73, 74, 75, 76, 77, 78, 79, 80, 81, 82, 83, 84, 85, 86, 87, 88, 89, 90, 91, 92, 93, 94, 95, 96, 97, 98, 99, 100]\n"
     ]
    }
   ],
   "source": [
    "numbers = [x for x in range(100,0,-1)]\n",
    "print(numbers)\n",
    "print()\n",
    "print(quick_sort(numbers))"
   ]
  },
  {
   "cell_type": "markdown",
   "metadata": {},
   "source": [
    "## Valasztott rendezes\n",
    "\n",
    "### Pszeudokod"
   ]
  },
  {
   "cell_type": "code",
   "execution_count": 5,
   "metadata": {},
   "outputs": [],
   "source": [
    "def your_sort(numbers):\n",
    "    pass"
   ]
  }
 ],
 "metadata": {
  "kernelspec": {
   "display_name": "Python 3",
   "language": "python",
   "name": "python3"
  },
  "language_info": {
   "codemirror_mode": {
    "name": "ipython",
    "version": 3
   },
   "file_extension": ".py",
   "mimetype": "text/x-python",
   "name": "python",
   "nbconvert_exporter": "python",
   "pygments_lexer": "ipython3",
   "version": "3.5.2"
  }
 },
 "nbformat": 4,
 "nbformat_minor": 2
}
