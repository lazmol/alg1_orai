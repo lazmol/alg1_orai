{
 "cells": [
  {
   "cell_type": "markdown",
   "metadata": {},
   "source": [
    "# Programozasi tetelek\n",
    "\n",
    "Az ugynevezett *programozasi tetelek* kimondasa es alkalmazasa hagyomanyosan az egyik meghatarozo pillere az informatika oktatasnak. Ezek a tetelek olyan altalanos celu, egyszeru algoritmus mintak, melyek -a tapasztaltabb fejlesztok szerint is- a problemamegoldas es a programkeszites gyakran felhasznalt elemi epitokovei\n",
    "\n",
    "Nagyon sok feladat megoldasakor igyekszunk a problemat addig-addig boncolni aprobb darabokra -legtobbszor sikerrel-, hogy illeszkedni tudjon egy -esetleg tobb- mar **ismert** es ami sokszor fontosabb mar **megoldott** problema -esetleg azok osszefuzott- vazara. Igy ezeket mar kelloen egyszeruen es rutinosan megoldhatjuk.\n",
    "\n",
    "### Elofordulasuk\n",
    "\n",
    "A targyalt tetelek -mint sablonok- nagyon sok gyakorlati problemanal feltunhetnek es hasznos eszkozeink lehetnek a kesobbiekben. Vigyazzunk azonban, hogy egy-egy feladat lehet annyira specifikus (lsd. osszegzes), hogy egy ugyes trukkel (*_gondolkodas_*) jobb megoldast is adhatunk.\n",
    "\n",
    "A tetelek altalanos formaban mindig egy [n,m] intervallumon ertelmezett **f** fuggveny es egy **P** predikatum (*tulajdonsag*) fuggveny segitsegevel vannak megadva. Ezek segitsegevel matematikailag bizonyitott az algoritmusok **helyes** mukodese.\n",
    "\n",
    "Sokszor azonban csupan gyujtemenytipusokra (*tomb*, *lista*, *vector*..) alkalmazzuk oket, az adatok sokasagan ezert az **f** fuggvenyt egesz egyszruen, mint *aktualis elem* ertelmezzuk, azaz elunk az f(i) := t[i] egyszerusitessel. (Megj.: *minel magasabb szinten tudunk altalanositani egy algoritmust, annal jobban valik ujrafelhasznalhatova.*)\n",
    "\n",
    "### Az algoritmusok leirasa\n",
    "\n",
    "Az algoritmusok leirasahoz un. **pszeudokodot** hasznalunk, ami egy egyszerusitett nyelv specialisan erre a celra kialakitva. Szandekosan hasonlit a programozasi nyelvekre, de nem azonosul egyikkel sem.\n",
    "\n",
    "[pszeudokod](https://hu.wikipedia.org/wiki/Pszeudok%C3%B3d)"
   ]
  },
  {
   "cell_type": "markdown",
   "metadata": {},
   "source": [
    "### Osszegzes\n",
    "\n",
    "Adott ertekek -N db- gyujtemenye. Hatarozzuk meg ezen ertekek osszeget.\n",
    "- - -\n",
    "\n",
    "#### Pszeudokod\n",
    "\n",
    "**be**: t[N]  \n",
    "osszeg := 0  \n",
    "**ciklus** i := 1-tol N-ig:  \n",
    "&nbsp;&nbsp;&nbsp;&nbsp;osszeg := osszeg + t[i]  \n",
    "**ciklus vege**  \n",
    "**ki**: osszeg  "
   ]
  },
  {
   "cell_type": "code",
   "execution_count": 2,
   "metadata": {},
   "outputs": [],
   "source": [
    "def summa(numbers):\n",
    "    num_sum = 0\n",
    "    #for elem in numbers: \n",
    "    for i in range(len(numbers)):\n",
    "        num_sum += numbers[i]\n",
    "        \n",
    "    return num_sum"
   ]
  },
  {
   "cell_type": "code",
   "execution_count": 3,
   "metadata": {},
   "outputs": [],
   "source": [
    "def fakt(n):\n",
    "    faktorial = 1\n",
    "    for i in range(1,n+1):\n",
    "        faktorial *= i\n",
    "        \n",
    "    return faktorial"
   ]
  },
  {
   "cell_type": "code",
   "execution_count": 4,
   "metadata": {},
   "outputs": [],
   "source": [
    "def comp_str(strings):\n",
    "    comp = \"\"\n",
    "    for i in range(len(strings)):\n",
    "        comp += strings[i][i]\n",
    "        \n",
    "    return comp"
   ]
  },
  {
   "cell_type": "code",
   "execution_count": 5,
   "metadata": {},
   "outputs": [
    {
     "name": "stdout",
     "output_type": "stream",
     "text": [
      "55\n",
      "120\n",
      "AOZ\n"
     ]
    }
   ],
   "source": [
    "print(summa([x for x in range(11)])) # 55\n",
    "print(fakt(5)) # 120\n",
    "print(comp_str([\"ASD\", \"LOL\", \"GGZ\"]))"
   ]
  },
  {
   "cell_type": "markdown",
   "metadata": {},
   "source": [
    "#### Altalanositas\n",
    "\n",
    "Az altalnositas soran kihasznalhatjuk, hogy lenyegeben 3 fuggvenyt rejt el elolunk az algoritmus, melyekre befolyassal lehetunk\n",
    "* **f**: az elejen megalapodtunk abban, hogy az egyszeruseg kedveert ezt a fuggvenyt csupan arra hasznaljuk, hogy **kivalassza** szamunkra az aktualis elemet (**f**(i) -> t[i])\n",
    "* **beta**: minden osszegzendo elemre megadhato egy tulajdonsag, amit figyelembe veve osszegezzuk az ertekeket, mivel minden elemet osszegzunk a fent leirt tetelben igy ekkor a beta(i) := True fgv-t hasznaljuk implicit modon\n",
    "* **op**: maga a muvelet, mely az emlitett tetelben az osszeadas\n",
    "\n",
    "Az osszegzes algoritmusat ugy tudjuk legjobban altalanositani, ha a felhasznalt fuggvenyeket mind parameterkent kaphatja meg. Ekkor kicsit felrevezeto lehet az *osszegezes* megnevezes hasznalata, hasznaljuk ilyenkor a talan szerencsesebb **sorozatszamitas** megnevezest."
   ]
  },
  {
   "cell_type": "code",
   "execution_count": 6,
   "metadata": {},
   "outputs": [],
   "source": [
    "def adv_seq(seq, nat, op,\n",
    "            beta = lambda x: True, f = lambda x: x, exit = False):\n",
    "    result = nat\n",
    "    idx = 0 \n",
    "    while idx < len(seq):\n",
    "        act_value = f(seq[idx])\n",
    "        act_beta = beta(act_value)\n",
    "        if not exit and act_beta:\n",
    "            result = op(result, act_value)\n",
    "        elif exit:\n",
    "            result = op(result, act_beta)\n",
    "            if result:\n",
    "                break\n",
    "        idx += 1\n",
    "    \n",
    "    return idx if exit else result"
   ]
  },
  {
   "cell_type": "code",
   "execution_count": 7,
   "metadata": {},
   "outputs": [
    {
     "name": "stdout",
     "output_type": "stream",
     "text": [
      "55\n",
      "55\n"
     ]
    }
   ],
   "source": [
    "print(summa([x for x in range(11)]))\n",
    "print(adv_seq(seq = [x for x in range(11)],\n",
    "              op = lambda x, y: x + y,\n",
    "              nat = 0))"
   ]
  },
  {
   "cell_type": "code",
   "execution_count": 8,
   "metadata": {},
   "outputs": [
    {
     "name": "stdout",
     "output_type": "stream",
     "text": [
      "50501250000\n"
     ]
    }
   ],
   "source": [
    "print(adv_seq(seq = list(range(1001)),\n",
    "              op = lambda x, y: x + y,\n",
    "              nat = 0,\n",
    "              f = lambda x: x ** 3,\n",
    "              beta = lambda x: x % 5 == 0\n",
    "              ))"
   ]
  },
  {
   "cell_type": "code",
   "execution_count": 9,
   "metadata": {},
   "outputs": [
    {
     "name": "stdout",
     "output_type": "stream",
     "text": [
      "233168\n"
     ]
    }
   ],
   "source": [
    "print(adv_seq(seq = list(range(1000)),\n",
    "              op = lambda x, y: x + y,\n",
    "              nat = 0,\n",
    "              beta = lambda x: x % 3 == 0 or x % 5 == 0))"
   ]
  },
  {
   "cell_type": "code",
   "execution_count": 11,
   "metadata": {},
   "outputs": [
    {
     "name": "stdout",
     "output_type": "stream",
     "text": [
      "120\n",
      "120\n"
     ]
    }
   ],
   "source": [
    "print(fakt(5))\n",
    "print(adv_seq(seq = list(range(1,6)),\n",
    "              op = lambda x, y: x * y,\n",
    "              nat = 1))"
   ]
  },
  {
   "cell_type": "code",
   "execution_count": 28,
   "metadata": {},
   "outputs": [
    {
     "name": "stdout",
     "output_type": "stream",
     "text": [
      "AOZ\n",
      "SOG\n"
     ]
    }
   ],
   "source": [
    "print(comp_str([\"ASD\", \"LOL\", \"GGZ\"]))\n",
    "print(adv_seq())"
   ]
  },
  {
   "cell_type": "markdown",
   "metadata": {},
   "source": [
    "### Szamlalas\n",
    "\n",
    "Adott elemek -N db- gyujtemenye. Szamoljuk meg, hany darab elem rendelkezik a megadott beta tulajdonsaggal.\n",
    "- - -\n",
    "\n",
    "#### Pszeudokod\n",
    "\n",
    "**be**: t[N]  \n",
    "szamlalo := 0  \n",
    "**ciklus** 1-tol N-ig:  \n",
    "&nbsp;&nbsp;&nbsp;&nbsp;**ha** beta(t[i]):  \n",
    "&nbsp;&nbsp;&nbsp;&nbsp;\n",
    "&nbsp;&nbsp;&nbsp;&nbsp;**akkor** szamlalo := szamlalo + 1  \n",
    "**ciklus vege**  \n",
    "**ki**: szamlalo"
   ]
  },
  {
   "cell_type": "code",
   "execution_count": 12,
   "metadata": {},
   "outputs": [],
   "source": [
    "def count_even_numbers(numbers):\n",
    "    counter = 0\n",
    "    for i in range(len(numbers)):\n",
    "        if numbers[i] % 2 == 0:\n",
    "            counter += 1\n",
    "            \n",
    "    return counter"
   ]
  },
  {
   "cell_type": "code",
   "execution_count": 15,
   "metadata": {},
   "outputs": [
    {
     "name": "stdout",
     "output_type": "stream",
     "text": [
      "6\n",
      "6\n"
     ]
    }
   ],
   "source": [
    "print(count_even_numbers([x for x in range(11)])) # 6\n",
    "print(adv_seq(seq = [x for x in range(11)],\n",
    "              op = lambda x, _: x + 1,\n",
    "              nat = 0,\n",
    "              beta = lambda x: x % 2 == 0))"
   ]
  },
  {
   "cell_type": "markdown",
   "metadata": {},
   "source": [
    "### Eldontes\n",
    "\n",
    "Adott elemek -N db- gyujtemenye. Dontsuk el, hogy van-e kozottuk adott beta tulajdonsagu elem.\n",
    "- - -\n",
    "\n",
    "#### Pszeudokod\n",
    "\n",
    "**be**: t[N]  \n",
    "talalt := false  \n",
    "i := 1  \n",
    "**ciklus amig** nem talalt es i <= N:  \n",
    "&nbsp;&nbsp;&nbsp;&nbsp;**ha** beta(t[i]):  \n",
    "&nbsp;&nbsp;&nbsp;&nbsp;\n",
    "&nbsp;&nbsp;&nbsp;&nbsp;**akkor** talalt := true  \n",
    "&nbsp;&nbsp;&nbsp;&nbsp;i := i + 1  \n",
    "**ciklus vege**  \n",
    "**ki**: talalt"
   ]
  },
  {
   "cell_type": "code",
   "execution_count": 17,
   "metadata": {},
   "outputs": [],
   "source": [
    "def dec_even(numbers):\n",
    "    found = False\n",
    "    idx = 0\n",
    "    while not found and idx < len(numbers):\n",
    "        if numbers[idx] % 2 == 0:\n",
    "            found = True\n",
    "        idx += 1\n",
    "    \n",
    "    return found"
   ]
  },
  {
   "cell_type": "code",
   "execution_count": 19,
   "metadata": {},
   "outputs": [
    {
     "name": "stdout",
     "output_type": "stream",
     "text": [
      "True\n",
      "True\n"
     ]
    }
   ],
   "source": [
    "print(dec_even([1,3,4,6,7])) # True\n",
    "print(adv_seq(seq = [1,3,4,6,7],\n",
    "              op = lambda x, y: x or y,\n",
    "              nat = False,\n",
    "              beta = lambda x: x % 2 == 0,\n",
    "              exit = True) < len([1,3,4,6,7]))"
   ]
  },
  {
   "cell_type": "markdown",
   "metadata": {},
   "source": [
    "### Kivalasztas\n",
    "\n",
    "Adott elemek -N db- gyujtemenye. Valasszuk ki kozuluk azt amelyik rendelkezik az adott beta tulajdonsaggal (index). (Megj.: *az algoritmus akkor mukodik jol, ha biztosan tudjuk, hogy letezik az a bizonyos elem*)\n",
    "- - -\n",
    "\n",
    "#### Pszeudokod\n",
    "\n",
    "**be**: t[N]  \n",
    "i := 1  \n",
    "**ciklus amig** nem beta(t[i]):  \n",
    "&nbsp;&nbsp;&nbsp;&nbsp; i := i + 1  \n",
    "**ciklus vege**  \n",
    "**ki**: i"
   ]
  },
  {
   "cell_type": "code",
   "execution_count": 12,
   "metadata": {},
   "outputs": [],
   "source": [
    "def select_even(numbers):\n",
    "    idx = 0\n",
    "    while not numbers[idx] % 2 == 0:\n",
    "        idx += 1\n",
    "        \n",
    "    return idx"
   ]
  },
  {
   "cell_type": "code",
   "execution_count": 16,
   "metadata": {},
   "outputs": [
    {
     "name": "stdout",
     "output_type": "stream",
     "text": [
      "3\n",
      "3\n"
     ]
    }
   ],
   "source": [
    "print(select_even([1,3,5,4,7])) # 3\n",
    "print(adv_seq(seq = [1,3,5,4,7],\n",
    "              op = lambda x, y: x or y,\n",
    "              nat = False,\n",
    "              beta = lambda x: x % 2 == 0,\n",
    "              exit = True))"
   ]
  },
  {
   "cell_type": "markdown",
   "metadata": {},
   "source": [
    "### Linearis kereses\n",
    "\n",
    "Adott elemek -N db- gyujtemenye. Keressuk meg az adott beta tulajdonsaggal rendelkezo elemet (index). (Megj.: *az elozonel biztonsagosabb, megadja, hogy van-e es ha igen, hol*)\n",
    "- - -\n",
    "\n",
    "#### Pszeudokod\n",
    "\n",
    "**be**: t[N]  \n",
    "i := 1  \n",
    "**ciklus amig** i <= N es nem beta(t[i]):  \n",
    "&nbsp;&nbsp;&nbsp;&nbsp; i := i + 1  \n",
    "**ciklus vege**  \n",
    "**ha** i > N  \n",
    "&nbsp;&nbsp;&nbsp;&nbsp;**akkor ki**: -1  \n",
    "&nbsp;&nbsp;&nbsp;&nbsp;**kulonben ki**: i"
   ]
  },
  {
   "cell_type": "code",
   "execution_count": 17,
   "metadata": {},
   "outputs": [],
   "source": [
    "def lin_search_even(numbers):\n",
    "    idx = 0\n",
    "    N = len(numbers)\n",
    "    while idx < N and not numbers[idx] % 2 == 0:\n",
    "        idx += 1\n",
    "        \n",
    "    if idx == N:\n",
    "        return -1\n",
    "    else:\n",
    "        return idx"
   ]
  },
  {
   "cell_type": "code",
   "execution_count": 20,
   "metadata": {},
   "outputs": [
    {
     "name": "stdout",
     "output_type": "stream",
     "text": [
      "1\n",
      "-1\n",
      "1\n",
      "4\n"
     ]
    }
   ],
   "source": [
    "print(lin_search_even([1,2,3,4,5])) # 1\n",
    "print(lin_search_even([1,3,5,7])) # -1\n",
    "\n",
    "print(adv_seq(seq = [1,2,3,4,5],\n",
    "              op = lambda x, y: x or y,\n",
    "              nat = False,\n",
    "              beta = lambda x: x % 2 == 0,\n",
    "              exit = True))\n",
    "print(adv_seq(seq = [1,3,5,7],\n",
    "              op = lambda x, y: x or y,\n",
    "              nat = False,\n",
    "              beta = lambda x: x % 2 == 0,\n",
    "              exit = True))"
   ]
  },
  {
   "cell_type": "markdown",
   "metadata": {},
   "source": [
    "### Maxumim kivalaszas\n",
    "\n",
    "Adott ertekek -N db- gyujtemenye. Valasszuk ki kozuluk a legnagyobbat (*ertek* vs. *index*).\n",
    "- - -\n",
    "\n",
    "#### Pszeudokod\n",
    "**be**: t[N]  \n",
    "max := t[1]  \n",
    "maxi := 1  \n",
    "**ciklus** i := 2-tol N-ig  \n",
    "&nbsp;&nbsp;&nbsp;&nbsp;**ha** max < t[i]  \n",
    "&nbsp;&nbsp;&nbsp;&nbsp;\n",
    "&nbsp;&nbsp;&nbsp;&nbsp;**akkor** max := t[i], maxi := i  \n",
    "**ciklus vege**\n",
    "**ki**: maxi\n"
   ]
  },
  {
   "cell_type": "code",
   "execution_count": 21,
   "metadata": {},
   "outputs": [],
   "source": [
    "def maximum(numbers):\n",
    "    maxv = numbers[0]\n",
    "    maxi = 0\n",
    "    for i in range(1,len(numbers)):\n",
    "        if maxv < numbers[i]:\n",
    "            maxv = numbers[i]\n",
    "            maxi = i\n",
    "    return maxi"
   ]
  },
  {
   "cell_type": "code",
   "execution_count": 22,
   "metadata": {},
   "outputs": [
    {
     "name": "stdout",
     "output_type": "stream",
     "text": [
      "5\n",
      "42\n"
     ]
    }
   ],
   "source": [
    "print(maximum([1,3,5,3,2,42,4,5,3])) # 42 vs. 5\n",
    "print(max([1,3,5,3,2,42,4,5,3]))"
   ]
  },
  {
   "cell_type": "markdown",
   "metadata": {},
   "source": [
    "#### Altalanositas\n",
    "\n",
    "A maximum kivalasztas altalanositasakor ugyelnunk kell arra, hogy a kapott gyujtemeny elemei kozott ertelmezve legyen egy **R** relacio (lsd. **<**), hogy egy tetszoleges elem osszehasonlithato legyen az osszes tobbi elofordulo elemmel (*teljesen rendezett halmaz*). Ha az adott **R** relacio teljesit bizonyos tulajdonsagokat, rendezesrol beszelunk. (Megj.: *errol azert fontos beszelni, hogy legyen ertelme a **legnagyobb** / **legkisebb** megnevezesnek*).\n",
    "* **reflexiv**: minden elem relacioban all onmagaval, azaz R(a,a) (3 < 3)\n",
    "* **antiszimmetrikus**: ha a relacioban all b-vel **es** b relacioban all a-val, **akkor** a = b, azaz R(a,b) es R(b,a) => a = b (a <= b **es** b <= a pl. 3 = 3)\n",
    "* **tranzitiv**: ha a relacioban all b-vel **es** b relacioban all c-vel, **akkor** a relacioban all c-vel is, azaz R(a,b) es R(b,c) => R(a,c) (a < b **es** b < c, **akkor** a < c pl. 2 < 3 es 3 < 5, akkor 2 < 5)\n",
    "\n",
    "Az altalanositott valtozatnal celszerubb a helyenkent felrevezeto maximum kivalasztas helyett a **szelsoertek** kivalasztas megnevezest hasznalni."
   ]
  },
  {
   "cell_type": "markdown",
   "metadata": {},
   "source": [
    "## Hazi feladat"
   ]
  },
  {
   "cell_type": "markdown",
   "metadata": {},
   "source": [
    "Irjunk egy fuggvenyt ami eldonti egy szamrol, hogy prim-e, az **osszegzes** tetelet felhasznalva. "
   ]
  },
  {
   "cell_type": "code",
   "execution_count": 23,
   "metadata": {},
   "outputs": [],
   "source": [
    "def is_prime_sum(n):\n",
    "    pass"
   ]
  },
  {
   "cell_type": "markdown",
   "metadata": {},
   "source": [
    "Irjunk egy fuggvenyt ami eldonti egy szamrol, hogy prim-e, a **szamlalas** tetelet felhasznalva."
   ]
  },
  {
   "cell_type": "code",
   "execution_count": 24,
   "metadata": {},
   "outputs": [],
   "source": [
    "def is_prime_count(n):\n",
    "    pass"
   ]
  },
  {
   "cell_type": "markdown",
   "metadata": {},
   "source": [
    "Irjunk egy fuggvenyt ami eldonti egy szamrol, hogy prim-e, az **eldontes** tetelet felhasznalva."
   ]
  },
  {
   "cell_type": "code",
   "execution_count": 25,
   "metadata": {},
   "outputs": [],
   "source": [
    "def is_prime_dec(n):\n",
    "    pass"
   ]
  },
  {
   "cell_type": "markdown",
   "metadata": {},
   "source": [
    "Irjunk egy fuggvenyt ami eldonti egy szamrol, hogy prim-e, a **linearis kereses** tetelet felhasznalva."
   ]
  },
  {
   "cell_type": "code",
   "execution_count": 26,
   "metadata": {},
   "outputs": [],
   "source": [
    "def is_prime_lin(n):\n",
    "    pass"
   ]
  },
  {
   "cell_type": "markdown",
   "metadata": {},
   "source": [
    "Irjunk egy fuggvenyt, ami egy kapott listabol visszaadja a legnagyobb primet, ha ilyen nincs -1-et. "
   ]
  },
  {
   "cell_type": "code",
   "execution_count": 2,
   "metadata": {},
   "outputs": [
    {
     "name": "stdout",
     "output_type": "stream",
     "text": [
      "None\n",
      "None\n"
     ]
    }
   ],
   "source": [
    "def max_prime(numbers):\n",
    "    pass\n",
    "\n",
    "print(max_prime([3,4,2,3,4,6,7,5,3,5,7,8,65,32,34,11])) # 11\n",
    "print(max_prime([342, 2456, 8238, 82745])) # -1"
   ]
  },
  {
   "cell_type": "markdown",
   "metadata": {},
   "source": [
    "[Project Euler](https://projecteuler.net/)"
   ]
  }
 ],
 "metadata": {
  "kernelspec": {
   "display_name": "Python 3",
   "language": "python",
   "name": "python3"
  },
  "language_info": {
   "codemirror_mode": {
    "name": "ipython",
    "version": 3
   },
   "file_extension": ".py",
   "mimetype": "text/x-python",
   "name": "python",
   "nbconvert_exporter": "python",
   "pygments_lexer": "ipython3",
   "version": "3.5.2"
  }
 },
 "nbformat": 4,
 "nbformat_minor": 2
}
