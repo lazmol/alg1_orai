{
 "cells": [
  {
   "cell_type": "markdown",
   "metadata": {},
   "source": [
    "# Programozasi tetelek\n",
    "\n",
    "Az ugynevezett *programozasi tetelek* kimondasa es alkalmazasa hagyomanyosan az egyik meghatarozo pillere az informatika oktatasnak. Ezek a tetelek olyan altalanos celu, egyszeru algoritmus mintak, melyek -a tapasztaltabb fejlesztok szerint is- a problemamegoldas es a programkeszites gyakran felhasznalt elemi epitokovei\n",
    "\n",
    "Nagyon sok feladat megoldasakor igyekszunk a problemat addig-addig boncolni aprobb darabokra -legtobbszor sikerrel-, hogy illeszkedni tudjon egy -esetleg tobb- mar **ismert** es ami sokszor fontosabb mar **megoldott** problema -esetleg azok osszefuzott- vazara. Igy ezeket mar kelloen egyszeruen es rutinosan megoldhatjuk.\n",
    "\n",
    "### Elofordulasuk\n",
    "\n",
    "A targyalt tetelek -mint sablonok- nagyon sok gyakorlati problemanal feltunhetnek es hasznos eszkozeink lehetnek a kesobbiekben. Vigyazzunk azonban, hogy egy-egy feladat lehet annyira specifikus (lsd. osszegzes), hogy egy ugyes trukkel (*_gondolkodas_*) jobb megoldast is adhatunk.\n",
    "\n",
    "A tetelek altalanos formaban mindig egy [n,m] intervallumon ertelmezett **f** fuggveny es egy **P** predikatum (*tulajdonsag*) fuggveny segitsegevel vannak megadva. Ezek segitsegevel matematikailag bizonyitott az algoritmusok **helyes** mukodese.\n",
    "\n",
    "Sokszor azonban csupan gyujtemenytipusokra (*tomb*, *lista*, *vector*..) alkalmazzuk oket, az adatok sokasagan ezert az **f** fuggvenyt egesz egyszruen, mint *aktualis elem* ertelmezzuk, azaz elunk az f(i) := t[i] egyszerusitessel. (Megj.: *minel magasabb szinten tudunk altalanositani egy algoritmust, annal jobban valik ujrafelhasznalhatova.*)\n",
    "\n",
    "### Az algoritmusok leirasa\n",
    "\n",
    "Az algoritmusok leirasahoz un. **pszeudokodot** hasznalunk, ami egy egyszerusitett nyelv specialisan erre a celra kialakitva. Szandekosan hasonlit a programozasi nyelvekre, de nem azonosul egyikkel sem.\n",
    "\n",
    "[pszeudokod](https://hu.wikipedia.org/wiki/Pszeudok%C3%B3d)"
   ]
  },
  {
   "cell_type": "markdown",
   "metadata": {},
   "source": [
    "### Osszegzes\n",
    "\n",
    "Adott ertekek -N db- gyujtemenye. Hatarozzuk meg ezen ertekek osszeget.\n",
    "- - -\n",
    "\n",
    "#### Pszeudokod\n",
    "\n",
    "**be**: t[N]  \n",
    "osszeg := 0  \n",
    "**ciklus** 1-tol N-ig:  \n",
    "&nbsp;&nbsp;&nbsp;&nbsp;osszeg := osszeg + t[i]  \n",
    "**ciklus vege**  \n",
    "**ki**: osszeg  "
   ]
  },
  {
   "cell_type": "code",
   "execution_count": 5,
   "metadata": {
    "collapsed": true
   },
   "outputs": [],
   "source": [
    "def sum_imperative(numbers):\n",
    "    s = 0\n",
    "    for i in numbers:\n",
    "        s += i\n",
    "    return s\n",
    "def sum2(numbers):\n",
    "    return sum(numbers)\n",
    "def sum_recursive(numbers)\n",
    "    if n == 1:\n",
    "        return 1\n",
    "    return n + szumma_rek(n-1)\n",
    "\n",
    "def sum_oop(numbers):\n",
    "    def __init__(self, numbers):\n",
    "        self.sum = 1"
   ]
  },
  {
   "cell_type": "code",
   "execution_count": 7,
   "metadata": {},
   "outputs": [
    {
     "name": "stdout",
     "output_type": "stream",
     "text": [
      "55\n"
     ]
    }
   ],
   "source": [
    "print(sum_imperative([x for x in range(11)])) # 55"
   ]
  },
  {
   "cell_type": "code",
   "execution_count": 12,
   "metadata": {
    "collapsed": true
   },
   "outputs": [],
   "source": [
    "def fakt(n):\n",
    "    faktorial = 1\n",
    "    for i in range(1, n+1):\n",
    "        faktorial *= i\n",
    "    return faktorial"
   ]
  },
  {
   "cell_type": "code",
   "execution_count": 13,
   "metadata": {},
   "outputs": [
    {
     "name": "stdout",
     "output_type": "stream",
     "text": [
      "120\n"
     ]
    }
   ],
   "source": [
    "print(fakt(5))"
   ]
  },
  {
   "cell_type": "code",
   "execution_count": 14,
   "metadata": {
    "collapsed": true
   },
   "outputs": [],
   "source": [
    "# string concatenation\n",
    "def new_str(l_strs):\n",
    "    res = ''\n",
    "    for i in range(len(l_strs)):\n",
    "        res += l_strs[i][i]\n",
    "    return res"
   ]
  },
  {
   "cell_type": "code",
   "execution_count": 15,
   "metadata": {},
   "outputs": [
    {
     "name": "stdout",
     "output_type": "stream",
     "text": [
      "AOZ\n"
     ]
    }
   ],
   "source": [
    "print(new_str(['ASD', 'LOL', 'GGZ']))"
   ]
  },
  {
   "cell_type": "markdown",
   "metadata": {},
   "source": [
    "#### Altalanositas\n",
    "\n",
    "Az altalnositas soran kihasznalhatjuk, hogy lenyegeben 3 fuggvenyt rejt el elolunk az algoritmus, melyekre befolyassal lehetunk\n",
    "* **f**: az elejen megalapodtunk abban, hogy az egyszeruseg kedveert ezt a fuggvenyt csupan arra hasznaljuk, hogy **kivalassza** szamunkra az aktualis elemet (**f**(i) -> t[i])\n",
    "* **beta**: minden osszegzendo elemre megadhato egy tulajdonsag, amit figyelembe veve osszegezzuk az ertekeket, mivel minden elemet osszegzunk a fent leirt tetelben igy ekkor a beta(i) := True fgv-t hasznaljuk implicit modon\n",
    "* **op**: maga a muvelet, mely az emlitett tetelben az osszeadas\n",
    "\n",
    "Az osszegzes algoritmusat ugy tudjuk legjobban altalanositani, ha a felhasznalt fuggvenyeket mind parameterkent kaphatja meg. Ekkor kicsit felrevezeto lehet az *osszegezes* megnevezes hasznalata, hasznaljuk ilyenkor a talan szerencsesebb **sorozatszamitas** megnevezest."
   ]
  },
  {
   "cell_type": "code",
   "execution_count": 3,
   "metadata": {
    "collapsed": true
   },
   "outputs": [],
   "source": [
    "def adv_seq_pm(seq, nat, op, beta=lambda x: True, f=lambda x: x, exit=False):\n",
    "    '''nat=natural value, exit=return index only'''\n",
    "    result = nat\n",
    "    idx = 0\n",
    "    while idx < len(seq):\n",
    "        act_beta = beta(f(seq[idx]))\n",
    "        if not exit and act_beta:\n",
    "            result = op(result, f(seq[idx]))\n",
    "        elif exit:\n",
    "            result = op(result, act_beta)\n",
    "            if result:  # or act_beta: ??? if act_beta miert nem eleg? kivalasztas\n",
    "                break\n",
    "        idx += 1\n",
    "    return idx if exit else result"
   ]
  },
  {
   "cell_type": "code",
   "execution_count": 4,
   "metadata": {},
   "outputs": [
    {
     "data": {
      "text/plain": [
       "55"
      ]
     },
     "execution_count": 4,
     "metadata": {},
     "output_type": "execute_result"
    }
   ],
   "source": [
    "adv_seq_pm(list(range(11)), nat=0, op=lambda x, y: x + y)"
   ]
  },
  {
   "cell_type": "code",
   "execution_count": 9,
   "metadata": {},
   "outputs": [
    {
     "data": {
      "text/plain": [
       "4"
      ]
     },
     "execution_count": 9,
     "metadata": {},
     "output_type": "execute_result"
    }
   ],
   "source": [
    "adv_seq_pm(list(range(1, 11)), nat=0, op=lambda x, y: x + y, exit=True, beta=lambda x: x % 5 == 0)"
   ]
  },
  {
   "cell_type": "code",
   "execution_count": 6,
   "metadata": {},
   "outputs": [
    {
     "data": {
      "text/plain": [
       "50501250000"
      ]
     },
     "execution_count": 6,
     "metadata": {},
     "output_type": "execute_result"
    }
   ],
   "source": [
    "adv_seq_pm(list(range(1001)), nat=0, op=lambda x, y: x + y, f=lambda x: x ** 3, beta=lambda x: x % 5 == 0)"
   ]
  },
  {
   "cell_type": "code",
   "execution_count": null,
   "metadata": {
    "collapsed": true
   },
   "outputs": [],
   "source": [
    "def adv_seq_ml(seq, nat, op, beta=lambda x: True, f=lambda x: x, exit=False):\n",
    "    result = nat\n",
    "    idx = 0\n",
    "    while idx < len(seq):\n",
    "        act_beta = beta(f(seq[idx]))\n",
    "        if act_beta and exit:\n",
    "            return idx + 1\n",
    "        else:\n",
    "            result = op(result, f(seq[idx]))\n",
    "        elif exit:\n",
    "            result = op(result, act_beta)\n",
    "            if result:  # or act_beta: ???\n",
    "                break\n",
    "        idx += 1\n",
    "    return idx if exit else result"
   ]
  },
  {
   "cell_type": "code",
   "execution_count": 20,
   "metadata": {
    "collapsed": true
   },
   "outputs": [],
   "source": [
    "def adv_seq(numbers, f, beta, op, start):\n",
    "    res = start\n",
    "    for i in range(len(numbers)):\n",
    "        num = f(i, numbers)\n",
    "        if beta(num):\n",
    "            res = op(num, res)\n",
    "    return res\n",
    "    \n",
    "def adv_seq2(numbers, f, beta, op, start):\n",
    "    from functools import reduce\n",
    "    numbers = map(f, numbers)\n",
    "    nums_filtered = filter(beta, numbers)\n",
    "    return reduce(op, nums_filtered, start)"
   ]
  },
  {
   "cell_type": "code",
   "execution_count": 21,
   "metadata": {},
   "outputs": [
    {
     "name": "stdout",
     "output_type": "stream",
     "text": [
      "44\n",
      "44\n"
     ]
    }
   ],
   "source": [
    "# usage example\n",
    "def f(index, list_numbers):\n",
    "    '''Function to select current element'''\n",
    "    return list_numbers[index]\n",
    "\n",
    "def beta(num):\n",
    "    '''Function to filter elements. Here only even numbers.'''\n",
    "    if num % 2 == 0:  # even number\n",
    "        return True\n",
    "    else:\n",
    "        return False\n",
    "\n",
    "def op(num, result):\n",
    "    '''Operation, addition here'''\n",
    "    return num + result\n",
    "\n",
    "print(adv_seq([1,2,35, 42], f, beta, op, 0))  # 44\n",
    "import operator\n",
    "print(adv_seq2([1,2,35, 42], lambda el: el, beta, operator.add, 0))  # 44"
   ]
  },
  {
   "cell_type": "markdown",
   "metadata": {},
   "source": [
    "### Szamlalas\n",
    "\n",
    "Adott elemek -N db- gyujtemenye. Szamoljuk meg, hany darab elem rendelkezik a megadott beta tulajdonsaggal.\n",
    "- - -\n",
    "\n",
    "#### Pszeudokod\n",
    "\n",
    "**be**: t[N]  \n",
    "szamlalo := 0  \n",
    "**ciklus** 1-tol N-ig:  \n",
    "&nbsp;&nbsp;&nbsp;&nbsp;**ha** beta(t[i]):  \n",
    "&nbsp;&nbsp;&nbsp;&nbsp;\n",
    "&nbsp;&nbsp;&nbsp;&nbsp;**akkor** szamlalo := szamlalo + 1  \n",
    "**ciklus vege**  \n",
    "**ki**: szamlalo"
   ]
  },
  {
   "cell_type": "code",
   "execution_count": 18,
   "metadata": {
    "collapsed": true
   },
   "outputs": [],
   "source": [
    "def count_even_numbers(numbers):\n",
    "    n_true = 0\n",
    "    for i in range(len(numbers)):\n",
    "        if numbers[i] % 2 == 0:\n",
    "            n_true += 1\n",
    "    return n_true\n",
    "    # all this with list comprehension\n",
    "    return len([n for n in numbers if n % 2 == 0])"
   ]
  },
  {
   "cell_type": "code",
   "execution_count": 17,
   "metadata": {},
   "outputs": [
    {
     "name": "stdout",
     "output_type": "stream",
     "text": [
      "6\n"
     ]
    }
   ],
   "source": [
    "print(count_even_numbers([x for x in range(11)])) # 6"
   ]
  },
  {
   "cell_type": "markdown",
   "metadata": {},
   "source": [
    "#### Altalanositas\n",
    "\n",
    "**MEGGONDOLANDO**"
   ]
  },
  {
   "cell_type": "code",
   "execution_count": 27,
   "metadata": {},
   "outputs": [
    {
     "name": "stdout",
     "output_type": "stream",
     "text": [
      "6\n"
     ]
    }
   ],
   "source": [
    "def count_gen(numbers, f=lambda x: x, beta=lambda x: True):\n",
    "    numbers = map(f, numbers)\n",
    "    # return len(list(filter(beta, numbers)))\n",
    "    from functools import reduce\n",
    "    return reduce(lambda length, el: length + 1, filter(beta, numbers), 0)  # count with reduce"
   ]
  },
  {
   "cell_type": "code",
   "execution_count": null,
   "metadata": {
    "collapsed": true
   },
   "outputs": [],
   "source": [
    "print(count_gen([x for x in range(11)], beta=lambda x: True if x % 2 == 0 else False))"
   ]
  },
  {
   "cell_type": "code",
   "execution_count": 12,
   "metadata": {},
   "outputs": [
    {
     "name": "stdout",
     "output_type": "stream",
     "text": [
      "6\n"
     ]
    }
   ],
   "source": [
    "print(adv_seq_pm(list(range(11)), nat=0, op=lambda x, _: x + 1, beta=lambda x: x % 2 == 0))"
   ]
  },
  {
   "cell_type": "markdown",
   "metadata": {},
   "source": [
    "### Eldontes\n",
    "\n",
    "Adott elemek -N db- gyujtemenye. Dontsuk el, hogy van-e kozottuk adott beta tulajdonsagu elem.\n",
    "- - -\n",
    "\n",
    "#### Pszeudokod with for:\n",
    "be: t[N]  \n",
    "**ciklus for** 1..N:  \n",
    "&nbsp;&nbsp;&nbsp;&nbsp;**if** beta(t[i]):  \n",
    "&nbsp;&nbsp;&nbsp;&nbsp;&nbsp;&nbsp;&nbsp;&nbsp;**akkor** **ki**: True  \n",
    "**else:**  \n",
    "&nbsp;&nbsp;&nbsp;&nbsp;**ki**: False  \n",
    "    \n",
    "#### Pszeudokod with while:  \n",
    "be: t[N]  \n",
    "talalt := False  \n",
    "i := 1  \n",
    "**ciklus amig** nem talalt es i <= N:  \n",
    "&nbsp;&nbsp;&nbsp;&nbsp;**if** beta(t[i]):  \n",
    "&nbsp;&nbsp;&nbsp;&nbsp;&nbsp;&nbsp;&nbsp;&nbsp;**akkor** talalt := True  \n",
    "&nbsp;&nbsp;&nbsp;&nbsp; i=i+1  \n",
    "**ciklus vege**  \n",
    "**ki**: talalt"
   ]
  },
  {
   "cell_type": "code",
   "execution_count": 22,
   "metadata": {
    "collapsed": true
   },
   "outputs": [],
   "source": [
    "def dec_even(numbers):\n",
    "    found = False\n",
    "    idx = 0\n",
    "    while not found and idx < len(numbers):\n",
    "        if numbers[idx] % 2 == 0:\n",
    "            found = True\n",
    "        idx += 1\n",
    "    return found"
   ]
  },
  {
   "cell_type": "code",
   "execution_count": 25,
   "metadata": {},
   "outputs": [
    {
     "name": "stdout",
     "output_type": "stream",
     "text": [
      "True\n"
     ]
    }
   ],
   "source": [
    "print(dec_even([1,3,7,8])) # True"
   ]
  },
  {
   "cell_type": "markdown",
   "metadata": {},
   "source": [
    "#### Altalanositas\n",
    "\n",
    "**MEGGONDOLANDO**"
   ]
  },
  {
   "cell_type": "code",
   "execution_count": null,
   "metadata": {
    "collapsed": true
   },
   "outputs": [],
   "source": [
    "adv_seq_pm([1,3,7,8], exit=True) # ??EZEN ELGONDOLKOZNI"
   ]
  },
  {
   "cell_type": "code",
   "execution_count": 31,
   "metadata": {
    "collapsed": true
   },
   "outputs": [],
   "source": [
    "def dec_gen(numbers, f=lambda x: x, beta=lambda x: True):\n",
    "    numbers = map(f, numbers)\n",
    "    for num in numbers:\n",
    "        if beta(num):\n",
    "            return True\n",
    "    else:\n",
    "        return False"
   ]
  },
  {
   "cell_type": "code",
   "execution_count": 34,
   "metadata": {},
   "outputs": [
    {
     "name": "stdout",
     "output_type": "stream",
     "text": [
      "True\n"
     ]
    }
   ],
   "source": [
    "print(dec_gen([1,3,7,8], beta=lambda x: True if x % 2 == 0 else False))  # True"
   ]
  },
  {
   "cell_type": "markdown",
   "metadata": {},
   "source": [
    "### Kivalasztas\n",
    "\n",
    "Adott elemek -N db- gyujtemenye. Valasszuk ki kozuluk azt amelyik rendelkezik az adott beta tulajdonsaggal (index). (Megj.: *az algoritmus akkor mukodik jol, ha biztosan tudjuk, hogy letezik az a bizonyos elem*)  \n",
    "**ELEG az elsot kivalasztani?? Ugy vettem igen ...**  \n",
    "- - -\n",
    "\n",
    "#### Pszeudokod\n",
    "**be**: t[N]  \n",
    "indices := []  \n",
    "**ciklus** 1-tol N-ig:  \n",
    "&nbsp;&nbsp;&nbsp;&nbsp;**ha** beta(t[i]):= osszeg + t[i]  \n",
    "&nbsp;&nbsp;&nbsp;&nbsp;&nbsp;&nbsp;&nbsp;&nbsp;**akkor** ki i  \n",
    "**ciklus vege**  \n",
    "**ki**: None  \n",
    "**VAGY WHILE:**  \n",
    "i:=1  \n",
    "**ciklus amig** nem beta(t[i]):  \n",
    "&nbsp;&nbsp;&nbsp;&nbsp;i:=i+1  \n",
    "**ki:** i  "
   ]
  },
  {
   "cell_type": "code",
   "execution_count": 37,
   "metadata": {
    "collapsed": true
   },
   "outputs": [],
   "source": [
    "def select_even(numbers, beta=lambda x: True if x % 2 == 0 else False):\n",
    "    for i, num in enumerate(numbers):\n",
    "        if beta(num):\n",
    "            return i\n",
    "    else:\n",
    "        return None"
   ]
  },
  {
   "cell_type": "code",
   "execution_count": 38,
   "metadata": {},
   "outputs": [
    {
     "name": "stdout",
     "output_type": "stream",
     "text": [
      "3\n"
     ]
    }
   ],
   "source": [
    "print(select_even([1,3,5,4,7])) # 3"
   ]
  },
  {
   "cell_type": "markdown",
   "metadata": {},
   "source": [
    "### Linearis kereses\n",
    "\n",
    "Adott elemek -N db- gyujtemenye. Keressuk meg az adott beta tulajdonsaggal rendelkezo elemet (index). (Megj.: *az elozonel biztonsagosabb, megadja, hogy van-e es ha igen, hol*)\n",
    "- - -\n",
    "\n",
    "#### Pszeudokod\n",
    "**be**: t[N]  \n",
    "indices := []  \n",
    "**ciklus** 1-tol N-ig:  \n",
    "&nbsp;&nbsp;&nbsp;&nbsp;**ha** beta(t[i]):= osszeg + t[i]  \n",
    "&nbsp;&nbsp;&nbsp;&nbsp;&nbsp;&nbsp;&nbsp;&nbsp;**akkor** indices append i  \n",
    "**ciklus vege**  \n",
    "**ha** indices:  \n",
    "&nbsp;&nbsp;&nbsp;&nbsp;**ki**: indices  \n",
    "**amugy**  \n",
    "&nbsp;&nbsp;&nbsp;&nbsp;**ki**: -1"
   ]
  },
  {
   "cell_type": "code",
   "execution_count": 41,
   "metadata": {
    "collapsed": true
   },
   "outputs": [],
   "source": [
    "def lin_search_even(numbers, beta=lambda x: True if x % 2 == 0 else False):\n",
    "    indices_true = []\n",
    "    for i, num in enumerate(numbers):\n",
    "        if beta(num):\n",
    "            indices_true.append(i)\n",
    "    if indices_true:\n",
    "        return indices_true\n",
    "    else:\n",
    "        return -1"
   ]
  },
  {
   "cell_type": "code",
   "execution_count": 42,
   "metadata": {},
   "outputs": [
    {
     "name": "stdout",
     "output_type": "stream",
     "text": [
      "[1, 3]\n",
      "-1\n"
     ]
    }
   ],
   "source": [
    "print(lin_search_even([1,2,3,4,5])) # 1 # itt is csak az elso kell vagy mi???\n",
    "print(lin_search_even([1,3,5,7])) # -1"
   ]
  },
  {
   "cell_type": "markdown",
   "metadata": {},
   "source": [
    "#### Altalonistas\n",
    "\n",
    "**MEGGONDOLANDO**"
   ]
  },
  {
   "cell_type": "code",
   "execution_count": 43,
   "metadata": {
    "collapsed": true
   },
   "outputs": [],
   "source": [
    "def lin_search_gen(numbers, f=lambda x: x, beta=lambda x: True):\n",
    "    numbers = map(f, numbers)\n",
    "    indices_true = [i for i, num in enumerate(numbers) if beta(num)]\n",
    "    if indices_true:\n",
    "        return indices_true\n",
    "    else:\n",
    "        return -1"
   ]
  },
  {
   "cell_type": "code",
   "execution_count": 45,
   "metadata": {},
   "outputs": [
    {
     "name": "stdout",
     "output_type": "stream",
     "text": [
      "[1, 3]\n"
     ]
    }
   ],
   "source": [
    "print(lin_search_gen([1,2,3,4,5], beta=lambda x: True if x % 2 == 0 else False))"
   ]
  },
  {
   "cell_type": "markdown",
   "metadata": {},
   "source": [
    "### Maxumim kivalaszas\n",
    "\n",
    "Adott ertekek -N db- gyujtemenye. Valasszuk ki kozuluk a legnagyobbat (*ertek* vs. *index*).\n",
    "- - -\n",
    "\n",
    "#### Pszeudokod"
   ]
  },
  {
   "cell_type": "code",
   "execution_count": 7,
   "metadata": {
    "collapsed": true
   },
   "outputs": [],
   "source": [
    "def maximum(numbers):\n",
    "    max_num = (numbers[0], 0)\n",
    "    for i, num in enumerate(numbers):\n",
    "        if i == 0:\n",
    "            continue\n",
    "        if num > max_num[0]:\n",
    "            max_num = (num, i)\n",
    "    return ' vs. '.join(map(str, max_num))"
   ]
  },
  {
   "cell_type": "code",
   "execution_count": 9,
   "metadata": {},
   "outputs": [
    {
     "name": "stdout",
     "output_type": "stream",
     "text": [
      "42 vs. 5\n"
     ]
    }
   ],
   "source": [
    "print(maximum([1,3,5,3,2,42,4,5,3,42])) # 42 vs. 5"
   ]
  },
  {
   "cell_type": "markdown",
   "metadata": {},
   "source": [
    "#### Altalanositas\n",
    "\n",
    "A maximum kivalasztas altalanositasakor ugyelnunk kell arra, hogy a kapott gyujtemeny elemei kozott ertelmezve legyen egy **R** relacio (lsd. **<**), hogy egy tetszoleges elem osszehasonlithato legyen az osszes tobbi elofordulo elemmel (*teljesen rendezett halmaz*). Ha az adott **R** relacio teljesit bizonyos tulajdonsagokat, rendezesrol beszelunk. (Megj.: *errol azert fontos beszelni, hogy legyen ertelme a **legnagyobb** / **legkisebb** megnevezesnek*).\n",
    "* **reflexiv**: minden elem relacioban all onmagaval, azaz R(a,a) (3 < 3)\n",
    "* **antiszimmetrikus**: ha a relacioban all b-vel **es** b relacioban all a-val, **akkor** a = b, azaz R(a,b) es R(b,a) => a = b (a <= b **es** b <= a pl. 3 = 3)\n",
    "* **tranzitiv**: ha a relacioban all b-vel **es** b relacioban all c-vel, **akkor** a relacioban all c-vel is, azaz R(a,b) es R(b,c) => R(a,c) (a < b **es** b < c, **akkor** a < c pl. 2 < 3 es 3 < 5, akkor 2 < 5)\n",
    "\n",
    "Az altalanositott valtozatnal celszerubb a helyenkent felrevezeto maximum kivalasztas helyett a **szelsoertek** kivalasztas megnevezest hasznalni.\n",
    "\n",
    "**MEGGONDOLANDO**"
   ]
  },
  {
   "cell_type": "markdown",
   "metadata": {},
   "source": [
    "## Hazi feladat\n",
    "\n",
    "Irjunk egy fuggvenyt, ami egy kapott listabol visszaadja a legnagyobb primet, ha ilyen nincs -1-et. "
   ]
  },
  {
   "cell_type": "code",
   "execution_count": 1,
   "metadata": {},
   "outputs": [
    {
     "name": "stdout",
     "output_type": "stream",
     "text": [
      "11\n",
      "-1\n"
     ]
    }
   ],
   "source": [
    "def max_prime(numbers):\n",
    "    highest_prime = -1\n",
    "    for i, num in enumerate(numbers):\n",
    "        if num < 2:\n",
    "            continue\n",
    "        elif num == 2:\n",
    "            if highest_prime < 2:\n",
    "                highest_prime = 2\n",
    "        else:\n",
    "            for n in range(2, num):\n",
    "                if num % n == 0:\n",
    "                    break\n",
    "            else:\n",
    "                highest_prime = num if highest_prime < num else highest_prime\n",
    "    return highest_prime\n",
    "\n",
    "print(max_prime([3,4,2,3,4,6,7,11,5,3,5,7,8,65,32,34])) # 11\n",
    "print(max_prime([342, 2456, 8238, 82745])) # -1"
   ]
  },
  {
   "cell_type": "markdown",
   "metadata": {},
   "source": [
    "### Prime number ciklussal"
   ]
  },
  {
   "cell_type": "code",
   "execution_count": 12,
   "metadata": {},
   "outputs": [
    {
     "name": "stdout",
     "output_type": "stream",
     "text": [
      "[2, 3]\n",
      "[2, 3, 5]\n",
      "[2, 3, 5, 7]\n",
      "[2, 3, 5, 7, 11]\n",
      "[2, 3, 5, 7, 11, 13]\n",
      "[2, 3, 5, 7, 11, 13, 17]\n",
      "[2, 3, 5, 7, 11, 13, 17, 19]\n",
      "[2, 3, 5, 7, 11, 13, 17, 19, 23]\n",
      "[2, 3, 5, 7, 11, 13, 17, 19, 23, 29]\n",
      "29\n"
     ]
    }
   ],
   "source": [
    "def get_prime(n):\n",
    "    '''get nth prime'''\n",
    "    primes = [2]\n",
    "    if n < 1:\n",
    "        print('n must be at least 1')\n",
    "        return\n",
    "    if n == 1:\n",
    "        return primes[0]\n",
    "    else:\n",
    "        number = 2\n",
    "        while len(primes) != n:\n",
    "            number += 1\n",
    "            for i in range(2, number):\n",
    "                if number % i == 0:  # has other divider as well, not a prime\n",
    "                    break\n",
    "            else:\n",
    "                primes.append(number)\n",
    "                # print(primes)\n",
    "        return primes[-1]\n",
    "            \n",
    "print(get_prime(10))"
   ]
  },
  {
   "cell_type": "markdown",
   "metadata": {},
   "source": []
  },
  {
   "cell_type": "code",
   "execution_count": 10,
   "metadata": {},
   "outputs": [
    {
     "data": {
      "text/plain": [
       "233168"
      ]
     },
     "execution_count": 10,
     "metadata": {},
     "output_type": "execute_result"
    }
   ],
   "source": [
    "def sum35():\n",
    "    summa = 0\n",
    "    for i in range(0, 1000):\n",
    "        if i % 3 == 0 or i % 5 == 0:\n",
    "            summa += i\n",
    "    return summa\n",
    "sum35()"
   ]
  },
  {
   "cell_type": "code",
   "execution_count": 11,
   "metadata": {},
   "outputs": [
    {
     "data": {
      "text/plain": [
       "233168"
      ]
     },
     "execution_count": 11,
     "metadata": {},
     "output_type": "execute_result"
    }
   ],
   "source": [
    "sum([i for i in range(1000) if i % 3 == 0 or i % 5 == 0])"
   ]
  },
  {
   "cell_type": "code",
   "execution_count": null,
   "metadata": {
    "collapsed": true
   },
   "outputs": [],
   "source": []
  }
 ],
 "metadata": {
  "kernelspec": {
   "display_name": "Python 3",
   "language": "python",
   "name": "python3"
  },
  "language_info": {
   "codemirror_mode": {
    "name": "ipython",
    "version": 3
   },
   "file_extension": ".py",
   "mimetype": "text/x-python",
   "name": "python",
   "nbconvert_exporter": "python",
   "pygments_lexer": "ipython3",
   "version": "3.6.5"
  }
 },
 "nbformat": 4,
 "nbformat_minor": 2
}
