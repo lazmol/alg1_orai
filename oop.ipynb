{
 "cells": [
  {
   "cell_type": "markdown",
   "metadata": {},
   "source": [
    "# Objektum orientalt programozas\n",
    "\n",
    "## Az OOP es szekvencialis nyelvek kulonbsegei\n",
    "\n",
    "A hagyományos, ún. szekvenciális programozási nyelvekben az utasítások sorról sorra, egymást követően hajtódnak végre. Ez annyit jelent, hogy a program egyes sorai egymásra épülnek: Ha az egyik sorban definiálunk egy változót, akkor a következő sorban is használhatjuk. Ezt az egyszerűséget megtöri az előre definiált rutinok és függvények használata, de még a ciklusokkal, illetve más vezérlési szerkezetekkel együtt is könnyen átlátható a forráskód struktúrája. Az ilyen nyelveknél ez felfogható előnyként is, azonban nagy projektekben kényelmetlenséget okozhat, hogy egy-egy alapvető algoritmust többször, többféleképpen is le kell írnunk, holott lényegi változtatás nincs benne. Ezt a problémát részben lehet szubrutinokkal és függvényekkel orvosolni, de az igazi megoldást az objektumok használata jelenti.\n",
    "\n",
    "Az objektumközpontú problémamegközelítés alapjaiban megváltoztatja a programozással kapcsolatos gondolkodásmódunkat. Az objektumorientált programozás alapja, hogy az adatokat és az őket kezelő függvényeket egy egységbe zárjuk (**encapsulation**). Az OOP másik fontos sajátossága az öröklődés (**inheritance**). Az öröklés azt jelenti, hogy egy osztályból kiindulva újakat hozunk létre, amelyek öröklik az ősosztály (**baseclass**) adattagjait és metódusait. Az új osztályt származtatott (**derived**) osztálynak nevezzük."
   ]
  },
  {
   "cell_type": "markdown",
   "metadata": {},
   "source": [
    "## Az osztaly es objektum\n",
    "\n",
    "Az objektum orientalt programozas ket alapegysege az osztaly (**class**) es az objektum / peldany (**object**).\n",
    "\n",
    "- Osztaly: az osztaly lenyegeben egy altalunk letrehozott osszetett tipus sablonja\n",
    "- Objektum / peldany: az adott osztaly (tipus) egy konkret eleme (peldanya)"
   ]
  },
  {
   "cell_type": "code",
   "execution_count": 2,
   "metadata": {},
   "outputs": [
    {
     "name": "stdout",
     "output_type": "stream",
     "text": [
      "3\n",
      "Szia\n"
     ]
    }
   ],
   "source": [
    "# Create objects\n",
    "x = int(3) # x = 3\n",
    "z = str(\"Szia\") # z = \"Szia\"\n",
    "\n",
    "print(x)\n",
    "print(z)"
   ]
  },
  {
   "cell_type": "markdown",
   "metadata": {},
   "source": [
    "## Az osztaly mint record\n",
    "\n",
    "A python nem ad nyelvi eszkozt a kezunkbe, hogy logikailag osszetartozo primitiv tipusokat (es csakis azokat), uj u.n. record tipusba szervezzuk.\n",
    "\n",
    "Az osztaly segitsegevel reprezentalhatjuk a kivant strukturat."
   ]
  },
  {
   "cell_type": "code",
   "execution_count": 19,
   "metadata": {},
   "outputs": [
    {
     "name": "stdout",
     "output_type": "stream",
     "text": [
      "John Doe\n",
      "[2000]\n",
      "Hank Cook\n",
      "[2000, 2012]\n",
      "True\n",
      "[2000, 2012]\n"
     ]
    }
   ],
   "source": [
    "# Class like a record\n",
    "class Book:\n",
    "    # static members\n",
    "    author = \"#\"\n",
    "    title = \"@\"\n",
    "    num_page = 0\n",
    "    years = []\n",
    "    \n",
    "b1 = Book() # Book\n",
    "b1.author = \"John Doe\"\n",
    "b1.years.append(2000)\n",
    "print(b1.author)\n",
    "print(b1.years)\n",
    "\n",
    "b2 = Book() # Book\n",
    "b2.author = \"Hank Cook\"\n",
    "b2.years.append(2012)\n",
    "print(b2.author)\n",
    "print(b2.years)\n",
    "\n",
    "# WTF\n",
    "b1.good = True\n",
    "print(b1.good)\n",
    "print(Book.years)"
   ]
  },
  {
   "cell_type": "markdown",
   "metadata": {},
   "source": [
    "# Az osztaly mint uj tipus\n",
    "\n",
    "Az objektum orientaltsag fo eszkoze az osztalyok (uj tipusok) letrehozasa. Ennek segitsegevel a logikailag osszetartozo adatokat szeparalhatjuk el a kulvilag elol, ne feledkezzunk meg a tipusok fontossagarol es a muveletekkel valo szoros kapcsolatarol.\n",
    "\n",
    "Az osztalyt / tipust leiro sablon / vaz (**skeleton**)\n",
    "\n",
    "- Adattag / tulajdonsag (**property**)\n",
    "- Tagfuggveny / muvelet (**method**)\n",
    "\n",
    "## Peldanyositas\n",
    "\n",
    "Mikor letrehozzuk egy osztaly adott objektumat (peldanyositunk), a Python -bar dinamikus tipusozasu-, nem tudja megjosolni ertekek alapjan, melyik -*altalunk letrehozott tipus*- objektuma lesz. Sajat tipusbol objektumot letrehozni specialisan kosntruktorral tudunk.\n",
    "\n",
    "- Konstruktor: az osztaly egy specialis metodusa, ami akkor fut le, mikor eppen peldanyositjuk az osztaly egy objektumat, eppen ezert inicializalasra hasznaljuk\n",
    "- Destruktor: az osztaly egz specialis metodusa, ami akkor fut le, mikor fel kell szabaduljon a memoria, ahol az objektum talalhato (pl. mar nem letezik ra hivatkozas)\n",
    "\n",
    "## Az osztalyt leiro tulajdonsagok lathatosaga (PPP)\n",
    "\n",
    "Az egyik legfontosabb kerdes mikor osztalyok megvalositasat es azok kapcsolatat / hierarhchiajat (**hiearchy**) tervezzuk, az adott osztalyt leiro tulajdonsagok lathatosaga a kulvilag fele\n",
    "\n",
    "- Privat (**private**): az adott tulajdonsag, csak a tipus definiciojaban latszik / hasznalhato\n",
    "- Vedett (**protected**): az adott tulajdonsagot az adott tipusbol szarmazo gyerekosztaly felhasznalhatja a sajat definiciojaban\n",
    "- Publikus (**public**): az adott tulajdonsag szabadon felhasznalhato a program barmely reszeben\n",
    "\n",
    "Ahhoz, hogy a lathatosagokat a -szerintunk- megfelelo modon biztositani tudjuk, a tulajdonsagok megjelenitesehez / modositasahoz konvencio szerint megjelenito (**get**) es modosito (**set**) muveleteket hasznalunk.\n",
    "\n",
    "- Megjelenito / getter: az altalunk -*belso reprezentaciora*- hasznalt privat valtozokhoz hasznalt megjelenito muvelet\n",
    "- Modosito / setter: az altalunk -*belso reprezentaciora*- hasznalt privat valtozokhoz hasznalt modosito muvelet"
   ]
  },
  {
   "cell_type": "code",
   "execution_count": 13,
   "metadata": {},
   "outputs": [
    {
     "name": "stdout",
     "output_type": "stream",
     "text": [
      "One new dog..\n",
      "Asd\n",
      "New name\n",
      "WAF\n"
     ]
    }
   ],
   "source": [
    "# Create our own Dog class\n",
    "class Dog:\n",
    "    def __init__(self, name):\n",
    "        print(\"One new dog..\")\n",
    "        self.name = name # __name\n",
    "        \n",
    "    # get\n",
    "    def get_name(self):\n",
    "        return self.name\n",
    "    \n",
    "    # set\n",
    "    def set_name(self, new_name):\n",
    "        self.name = new_name\n",
    "        \n",
    "    # methods\n",
    "    def waf(self):\n",
    "        print(\"WAF\")\n",
    "    \n",
    "    def introduce(self):\n",
    "        print(\"I'm a dog!\")\n",
    "        print(\"My name is\", self.name)\n",
    "    \n",
    "\n",
    "# OUTSIDE\n",
    "d1 = Dog(\"Asd\")\n",
    "#print(d1.name) # I don't want this but it's works\n",
    "print(d1.get_name())\n",
    "\n",
    "#d1.name = \"New name\" # I don't want this but it's works\n",
    "d1.set_name(\"New name\")\n",
    "print(d1.get_name())\n",
    "\n",
    "d1.waf()"
   ]
  },
  {
   "cell_type": "markdown",
   "metadata": {},
   "source": [
    "## Oroklodes\n",
    "\n",
    "Az objektum orientaltsag masik nagy erossege az oroklodes (**inheritance**), mely segitsegevel tenyleges hierarchiat epithetunk ki az altalunk definialt osztalyok kozott, ahol minden west terrier kutya, de nem minden kutya west terrier.\n",
    "\n",
    "### Absztrakt osztaly\n",
    "\n",
    "Sok nyelvben lehetoseg van absztrakt osztaly letrehozasara, ami altalaban a hierarchia tetejen helyezkedik el es mar annyira altalanos, hogy nincs ertelme peldanyositani (pl. Eloleny -> Kutya).\n",
    "\n",
    "- Virtualis metodus / muvelet: az osztaly definicioban jelezzuk, hogy ezzel a metodussal rendelkeznie kell az adott tipusnak, viszont nem definialjuk annak mukodeset => nem peldanyosithato\n",
    "\n",
    "### Muvelet feluldefinialas / override\n",
    "\n",
    "Mikor elunk az okrolodes eszkozevel, azt azert tesszuk, mert az ujonan definialni kivant tipus minden muvelettel -*esetleg tobbel*- rendelkezik, amivel a szulo osztaly. Kenyelmes eszkoz, hisz egyszerre tobb tiz (*barmennyi*) muvelet oroklodik, igy ezeket nem kell ujra definialnunk.\n",
    "\n",
    "Mi a helyzet abban az esetben, ha a sok -mar megorokolt- muveletbol van nehany, amik az uj tipusnal szeretnenk, hogy mashogy mukodjon?! Erre ad eszkozt a feluldefinialas, ekkor ugyan annak a muveletnek adhatunk mas -specialisabb- mukodest."
   ]
  },
  {
   "cell_type": "code",
   "execution_count": 21,
   "metadata": {},
   "outputs": [
    {
     "name": "stdout",
     "output_type": "stream",
     "text": [
      "One new dog..\n",
      "New WestHighlandWhiteTerrier..\n",
      "WAF\n",
      "I'm a westhighlandwhiteterrier!\n",
      "I'm a dog too.. ;)\n",
      "My name is Name\n"
     ]
    },
    {
     "ename": "AttributeError",
     "evalue": "'Dog' object has no attribute 'get_color'",
     "output_type": "error",
     "traceback": [
      "\u001b[0;31m---------------------------------------------------------------------------\u001b[0m",
      "\u001b[0;31mAttributeError\u001b[0m                            Traceback (most recent call last)",
      "\u001b[0;32m<ipython-input-21-834e57d7c5f1>\u001b[0m in \u001b[0;36m<module>\u001b[0;34m()\u001b[0m\n\u001b[1;32m     27\u001b[0m \u001b[0;31m# Only WestHighlandWhiteTerrier has a color\u001b[0m\u001b[0;34m\u001b[0m\u001b[0;34m\u001b[0m\u001b[0m\n\u001b[1;32m     28\u001b[0m \u001b[0mch_d1\u001b[0m\u001b[0;34m.\u001b[0m\u001b[0mget_color\u001b[0m\u001b[0;34m(\u001b[0m\u001b[0;34m)\u001b[0m\u001b[0;34m\u001b[0m\u001b[0m\n\u001b[0;32m---> 29\u001b[0;31m \u001b[0md1\u001b[0m\u001b[0;34m.\u001b[0m\u001b[0mget_color\u001b[0m\u001b[0;34m(\u001b[0m\u001b[0;34m)\u001b[0m\u001b[0;34m\u001b[0m\u001b[0m\n\u001b[0m",
      "\u001b[0;31mAttributeError\u001b[0m: 'Dog' object has no attribute 'get_color'"
     ]
    }
   ],
   "source": [
    "# Create derived class of Dog\n",
    "class WestHighlandWhiteTerrier(Dog):\n",
    "    def __init__(self, name):\n",
    "        super().__init__(name) \n",
    "        print(\"New WestHighlandWhiteTerrier..\")\n",
    "        self.color = \"white\"\n",
    "    \n",
    "    # get\n",
    "    def get_color(self):\n",
    "        return self.color\n",
    "    \n",
    "    # methods\n",
    "    def introduce(self):\n",
    "        print(\"I'm a westhighlandwhiteterrier!\")\n",
    "        print(\"I'm a dog too.. ;)\")\n",
    "        print(\"My name is\", self.name)\n",
    "        \n",
    "# OUTSIDE\n",
    "ch_d1 = WestHighlandWhiteTerrier(\"Name\")\n",
    "ch_d1.get_name()\n",
    "\n",
    "# It can waf and introduce itself because inheritance\n",
    "ch_d1.waf()\n",
    "ch_d1.introduce() # We overrided this method\n",
    "\n",
    "# Only WestHighlandWhiteTerrier has a color\n",
    "ch_d1.get_color()\n",
    "d1.get_color() # It's 'just' a Dog object"
   ]
  }
 ],
 "metadata": {
  "kernelspec": {
   "display_name": "Python 3",
   "language": "python",
   "name": "python3"
  },
  "language_info": {
   "codemirror_mode": {
    "name": "ipython",
    "version": 3
   },
   "file_extension": ".py",
   "mimetype": "text/x-python",
   "name": "python",
   "nbconvert_exporter": "python",
   "pygments_lexer": "ipython3",
   "version": "3.5.2"
  }
 },
 "nbformat": 4,
 "nbformat_minor": 2
}
