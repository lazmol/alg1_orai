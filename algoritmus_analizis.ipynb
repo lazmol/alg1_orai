{
 "cells": [
  {
   "cell_type": "markdown",
   "metadata": {},
   "source": [
    "# Algoritmus analizis\n",
    "\n",
    "A programozas kezdete ota altalanosan elofordulo dolog a programok osszehasonlitasa. Eszrevehetjuk, hogy sok program -bizonyos problemakoron belul-, nagyon hasonlit egymashoz, foleg az egyszerubbek / rovidebbek. Gyakran felmerul egy erdekes kerdes. Ha ket program ugyan azt a feladatot oldja meg, megis nagyon kulonbozoek, jobb-e az egyik, mint a masik?\n",
    "\n",
    "Hogy ezt a kerdeskort megvizsgaljuk, szem elott kell tartanunk kulonbseg van program es az algoritmus kozott, amit az reprezental. Az algoritmus altalanos utasitasok egy sorozata ami eljuttat minket az **adott** feladat megoldasahoz. Sok program megvalosithatja ugyan azt az algoritmust ami fugghet egyarant a programozotol es a nyelvtol is amit hasznal.\n",
    "\n",
    "Nezzuk a mar jol ismert osszegzest megvalosito fuggvenyt. A gyakran elofordulo problemat oldja meg, ahol ossze kell adnunk az elso *n* szamot. Az algoritmus alapotlete, hogy egy akkumlalo valtozo -az uj erteke **mindig** fugg a regitol- bevezetesevel, az osszes szamot ehhez hozzaadva megkaphatjuk a vegeredmenyt."
   ]
  },
  {
   "cell_type": "code",
   "execution_count": 1,
   "metadata": {},
   "outputs": [
    {
     "name": "stdout",
     "output_type": "stream",
     "text": [
      "55\n"
     ]
    }
   ],
   "source": [
    "def sum_n(n):\n",
    "    summa = 0\n",
    "    for i in range(1,n+1):\n",
    "        summa = summa + i\n",
    "    \n",
    "    return summa\n",
    "\n",
    "print(sum_n(10))"
   ]
  },
  {
   "cell_type": "code",
   "execution_count": 2,
   "metadata": {},
   "outputs": [
    {
     "name": "stdout",
     "output_type": "stream",
     "text": [
      "55\n"
     ]
    }
   ],
   "source": [
    "def foo(tom):\n",
    "    fred = 0\n",
    "    for bill in range(1,tom+1):\n",
    "        barney = bill\n",
    "        fred = fred + barney\n",
    "        \n",
    "    return fred\n",
    "\n",
    "print(foo(10))"
   ]
  },
  {
   "cell_type": "markdown",
   "metadata": {},
   "source": [
    "A ket fuggvenyt osszehasonlitva nem is annyira magatol ertetodo melyik a jobb megoldas. A valasz nagyban fugg a program / algoritmus fele tamasztott kovetelmenyektol. Persze azonnal mondhatnank hogy szem elott tartva az **easy to read and easy to understand** elvet, azaz egyarant konnyu legyen leirni **es** megerteni is.\n",
    "\n",
    "Az algoritmus analizis osszehasonlitasi alapja foleg az algoritmus hatekonysaganak a vizsgalata (*szamitasi kapacitas*, *futasido*). Szeretnenk osszehasonlitani ket algoritmust es hatekonysaguk alapjan eldonteni mikor melyik a *jobb*. Ebbol a szemszogbol vizsgalva az elobbi ket kodot, maris nem kulonboznek annyira.\n",
    "\n",
    "Az egyik szempont ami alapjan vizsgalhatjuk az algoritmusokat az az altaluk felhasznalt memoriaterulet, azaz, hogy mennyi memoriara van szukseg a problema megoldasahoz. Alapvetoen a memoria hasznalata sokszor egy rajtunk kivul allo tenyezo, ami egeszen az adott programozasi nyelv memoriakezeleseig hatolo problemakor.\n",
    "\n",
    "A masik szempont ami alapjan osszehasonlithatjuk a kulonbozo algoritmusokat az a futasidejuk. A **szamitastudomany** a *computer science* egy olyan aga, ahol az egyik meghatarozo kerdes, hogy az adott problema kiszamithato-e algoritmussal. Egy masik fontos kerdes, hogy ez **veges** idoben megtortenik-e."
   ]
  },
  {
   "cell_type": "code",
   "execution_count": 1,
   "metadata": {},
   "outputs": [],
   "source": [
    "import time\n",
    "def sum_time(n):\n",
    "    start = time.time()\n",
    "    summa = 0\n",
    "    for i in range(n+1):\n",
    "        summa += i\n",
    "    end = time.time()\n",
    "    \n",
    "    return summa, end-start"
   ]
  },
  {
   "cell_type": "markdown",
   "metadata": {},
   "source": [
    "Nezzuk meg mi tortenki, ha 5-szor osszeadjuk az elso 10.000  / 100.000 / 1.000.000 szamot."
   ]
  },
  {
   "cell_type": "code",
   "execution_count": 6,
   "metadata": {},
   "outputs": [
    {
     "name": "stdout",
     "output_type": "stream",
     "text": [
      "50005000 0.0007178783416748047\n",
      "50005000 0.0005538463592529297\n",
      "50005000 0.0005381107330322266\n",
      "50005000 0.000537872314453125\n",
      "50005000 0.0005407333374023438\n",
      "\n",
      "200010000 0.0011227130889892578\n",
      "200010000 0.0011112689971923828\n",
      "200010000 0.0011181831359863281\n",
      "200010000 0.0011212825775146484\n",
      "200010000 0.0010845661163330078\n",
      "\n",
      "5000050000 0.01056361198425293\n",
      "5000050000 0.00856161117553711\n",
      "5000050000 0.006611824035644531\n",
      "5000050000 0.006508827209472656\n",
      "5000050000 0.006047487258911133\n",
      "\n",
      "500000500000 0.05733060836791992\n",
      "500000500000 0.05841636657714844\n",
      "500000500000 0.05766439437866211\n",
      "500000500000 0.06585979461669922\n",
      "500000500000 0.05741739273071289\n",
      "\n"
     ]
    }
   ],
   "source": [
    "# sum of first 10.000 integer\n",
    "for i in range(5):\n",
    "    result = sum_time(10000)\n",
    "    print(result[0],result[1])\n",
    "print()\n",
    "\n",
    "# sum of first 20.000 integer\n",
    "for i in range(5):\n",
    "    result = sum_time(20000)\n",
    "    print(result[0],result[1])\n",
    "print()\n",
    "\n",
    "# sum of first 100.000 integer\n",
    "for i in range(5):\n",
    "    result = sum_time(100000)\n",
    "    print(result[0],result[1])\n",
    "print()\n",
    "\n",
    "#sum of first 1.000.000\n",
    "for i in range(5):\n",
    "    result = sum_time(1000000)\n",
    "    print(result[0],result[1])\n",
    "print()"
   ]
  },
  {
   "cell_type": "code",
   "execution_count": 14,
   "metadata": {},
   "outputs": [],
   "source": [
    "import timeit\n",
    "def list_concat():\n",
    "    l = []\n",
    "    for i in range(1,1001):\n",
    "        l = l + [i]\n",
    "\n",
    "timer_concat = timeit.Timer(\"list_concat()\",\n",
    "                            \"from __main__ import list_concat\")\n",
    "\n",
    "def list_append():\n",
    "    l = []\n",
    "    for i in range(1,1001):\n",
    "        l.append(i)\n",
    "        \n",
    "timer_append = timeit.Timer(\"list_append()\",\n",
    "                            \"from __main__ import list_append\")\n",
    "\n",
    "def list_gen():\n",
    "    [x for x in range(1,1001)]\n",
    "    \n",
    "timer_gen = timeit.Timer(\"list_gen()\",\n",
    "                            \"from __main__ import list_gen\")\n",
    "\n",
    "def list_range():\n",
    "    list(range(1,1001))\n",
    "\n",
    "timer_range = timeit.Timer(\"list_range()\",\n",
    "                            \"from __main__ import list_range\")"
   ]
  },
  {
   "cell_type": "code",
   "execution_count": 16,
   "metadata": {},
   "outputs": [
    {
     "name": "stdout",
     "output_type": "stream",
     "text": [
      "concat:  13.297776175000763 s\n",
      "append:  0.742557992998627 s\n",
      "generator:  0.3257195749974926 s\n",
      "range:  0.13456160200439626 s\n"
     ]
    }
   ],
   "source": [
    "print(\"concat: \",timer_concat.timeit(number=10000),\"s\")\n",
    "print(\"append: \",timer_append.timeit(number=10000),\"s\")\n",
    "print(\"generator: \",timer_gen.timeit(number=10000),\"s\")\n",
    "print(\"range: \",timer_range.timeit(number=10000),\"s\")"
   ]
  }
 ],
 "metadata": {
  "kernelspec": {
   "display_name": "Python 3",
   "language": "python",
   "name": "python3"
  },
  "language_info": {
   "codemirror_mode": {
    "name": "ipython",
    "version": 3
   },
   "file_extension": ".py",
   "mimetype": "text/x-python",
   "name": "python",
   "nbconvert_exporter": "python",
   "pygments_lexer": "ipython3",
   "version": "3.5.2"
  }
 },
 "nbformat": 4,
 "nbformat_minor": 2
}
