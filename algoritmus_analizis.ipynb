{
 "cells": [
  {
   "cell_type": "markdown",
   "metadata": {},
   "source": [
    "# Algoritmus analizis\n",
    "\n",
    "A programozas kezdete ota altalanosan elofordulo dolog a programok osszehasonlitasa. Eszrevehetjuk, hogy sok program -bizonyos problemakoron belul-, nagyon hasonlit egymashoz, foleg az egyszerubbek / rovidebbek. Gyakran felmerul egy erdekes kerdes. Ha ket program ugyan azt a feladatot oldja meg, megis nagyon kulonbozoek, jobb-e az egyik, mint a masik?\n",
    "\n",
    "Hogy ezt a kerdeskort megvizsgaljuk, szem elott kell tartanunk kulonbseg van program es az algoritmus kozott, amit az reprezental. Az algoritmus altalanos utasitasok egy sorozata ami eljuttat minket az **adott** feladat megoldasahoz. Sok program megvalosithatja ugyan azt az algoritmust ami fugghet egyarant a programozotol es a nyelvtol is amit hasznal.\n",
    "\n",
    "Nezzuk a mar jol ismert osszegzest megvalosito fuggvenyt. A gyakran elofordulo problemat oldja meg, ahol ossze kell adnunk az elso *n* szamot. Az algoritmus alapotlete, hogy egy akkumlalo valtozo -az uj erteke **mindig** fugg a regitol- bevezetesevel, az osszes szamot ehhez hozzaadva megkaphatjuk a vegeredmenyt."
   ]
  },
  {
   "cell_type": "code",
   "execution_count": 1,
   "metadata": {},
   "outputs": [
    {
     "name": "stdout",
     "output_type": "stream",
     "text": [
      "55\n"
     ]
    }
   ],
   "source": [
    "def sum_n(n):\n",
    "    summa = 0\n",
    "    for i in range(1,n+1):\n",
    "        summa += i\n",
    "    \n",
    "    return summa\n",
    "\n",
    "print(sum_n(10))"
   ]
  },
  {
   "cell_type": "code",
   "execution_count": 2,
   "metadata": {},
   "outputs": [
    {
     "name": "stdout",
     "output_type": "stream",
     "text": [
      "55\n"
     ]
    }
   ],
   "source": [
    "def foo(tom):\n",
    "    fred = 0\n",
    "    for bill in range(1,tom+1):\n",
    "        barney = bill\n",
    "        fred += barney\n",
    "        \n",
    "    return fred\n",
    "\n",
    "print(foo(10))"
   ]
  },
  {
   "cell_type": "markdown",
   "metadata": {},
   "source": [
    "A ket fuggvenyt osszehasonlitva nem is annyira magatol ertetodo melyik a jobb megoldas. A valasz nagyban fugg a program / algoritmus fele tamasztott kovetelmenyektol. Persze azonnal mondhatnank hogy szem elott tartva az **easy to read and easy to understand** elvet, azaz egyarant konnyu legyen leirni **es** megerteni is.\n",
    "\n",
    "Az algoritmus analizis osszehasonlitasi alapja foleg az algoritmus hatekonysaganak a vizsgalata (*szamitasi kapacitas*, *futasido*). Szeretnenk osszehasonlitani ket algoritmust es hatekonysaguk alapjan eldonteni mikor melyik a *jobb*. Ebbol a szemszogbol vizsgalva az elobbi ket kodot, maris nem kulonboznek annyira.\n",
    "\n",
    "Az egyik szempont ami alapjan vizsgalhatjuk az algoritmusokat az az altaluk felhasznalt memoriaterulet, azaz, hogy mennyi memoriara van szukseg a problema megoldasahoz. Alapvetoen a memoria hasznalata sokszor egy rajtunk kivul allo tenyezo, ami egeszen az adott programozasi nyelv memoriakezeleseig hatolo problemakor.\n",
    "\n",
    "A masik szempont ami alapjan osszehasonlithatjuk a kulonbozo algoritmusokat az a futasidejuk. A **szamitastudomany** a *computer science* egy olyan aga, ahol az egyik meghatarozo kerdes, hogy az adott problema kiszamithato-e algoritmussal. Egy masik fontos kerdes, hogy ez **veges** idoben megtortenik-e."
   ]
  },
  {
   "cell_type": "code",
   "execution_count": 3,
   "metadata": {},
   "outputs": [],
   "source": [
    "import time\n",
    "def sum_time(n):\n",
    "    start = time.time()\n",
    "    summa = 0\n",
    "    for i in range(n+1):\n",
    "        summa += i\n",
    "    end = time.time()\n",
    "    \n",
    "    return summa, end-start"
   ]
  },
  {
   "cell_type": "markdown",
   "metadata": {},
   "source": [
    "Nezzuk meg mi tortenki, ha 5-szor osszeadjuk az elso 10.000  / 100.000 / 1.000.000 szamot."
   ]
  },
  {
   "cell_type": "code",
   "execution_count": 4,
   "metadata": {},
   "outputs": [
    {
     "name": "stdout",
     "output_type": "stream",
     "text": [
      "50005000 0.000774383544921875\n",
      "50005000 0.0004839897155761719\n",
      "50005000 0.0004572868347167969\n",
      "50005000 0.00047969818115234375\n",
      "50005000 0.0004851818084716797\n",
      "\n",
      "200010000 0.000881195068359375\n",
      "200010000 0.0009698867797851562\n",
      "200010000 0.0010437965393066406\n",
      "200010000 0.0009620189666748047\n",
      "200010000 0.0009126663208007812\n",
      "\n",
      "5000050000 0.0053479671478271484\n",
      "5000050000 0.0048906803131103516\n",
      "5000050000 0.005512714385986328\n",
      "5000050000 0.005188941955566406\n",
      "5000050000 0.0055904388427734375\n",
      "\n",
      "500000500000 0.058612823486328125\n",
      "500000500000 0.058685302734375\n",
      "500000500000 0.05756354331970215\n",
      "500000500000 0.055152177810668945\n",
      "500000500000 0.05448436737060547\n",
      "\n"
     ]
    }
   ],
   "source": [
    "# sum of first 10.000 integer\n",
    "for i in range(5):\n",
    "    result = sum_time(10000)\n",
    "    print(result[0], result[1])\n",
    "print()\n",
    "\n",
    "# sum of first 20.000 integer\n",
    "for i in range(5):\n",
    "    result = sum_time(20000)\n",
    "    print(result[0], result[1])\n",
    "print()\n",
    "\n",
    "# sum of first 100.000 integer\n",
    "for i in range(5):\n",
    "    result = sum_time(100000)\n",
    "    print(result[0], result[1])\n",
    "print()\n",
    "\n",
    "#sum of first 1.000.000\n",
    "for i in range(5):\n",
    "    result = sum_time(1000000)\n",
    "    print(result[0], result[1])\n",
    "print()"
   ]
  },
  {
   "cell_type": "code",
   "execution_count": 5,
   "metadata": {},
   "outputs": [],
   "source": [
    "import timeit\n",
    "def list_concat():\n",
    "    l = []\n",
    "    for i in range(1,1001):\n",
    "        l = l + [i]\n",
    "\n",
    "timer_concat = timeit.Timer(\"list_concat()\", \"from __main__ import list_concat\")\n",
    "\n",
    "def list_append():\n",
    "    l = []\n",
    "    for i in range(1,1001):\n",
    "        l.append(i)\n",
    "        \n",
    "timer_append = timeit.Timer(\"list_append()\", \"from __main__ import list_append\")\n",
    "\n",
    "def list_gen():\n",
    "    [x for x in range(1,1001)]\n",
    "    \n",
    "timer_gen = timeit.Timer(\"list_gen()\", \"from __main__ import list_gen\")\n",
    "\n",
    "def list_range():\n",
    "    list(range(1,1001))\n",
    "\n",
    "timer_range = timeit.Timer(\"list_range()\", \"from __main__ import list_range\")"
   ]
  },
  {
   "cell_type": "code",
   "execution_count": 7,
   "metadata": {},
   "outputs": [
    {
     "name": "stdout",
     "output_type": "stream",
     "text": [
      "concat:  13.131779974035453 s\n",
      "append:  0.7498926799744368 s\n",
      "generator:  0.3021585789974779 s\n",
      "range:  0.14200997003354132 s\n"
     ]
    }
   ],
   "source": [
    "print(\"concat: \",timer_concat.timeit(number=10000),\"s\")\n",
    "print(\"append: \",timer_append.timeit(number=10000),\"s\")\n",
    "print(\"generator: \",timer_gen.timeit(number=10000),\"s\")\n",
    "print(\"range: \",timer_range.timeit(number=10000),\"s\")"
   ]
  },
  {
   "cell_type": "markdown",
   "metadata": {},
   "source": [
    "## Fibonacci szamok"
   ]
  },
  {
   "cell_type": "code",
   "execution_count": 8,
   "metadata": {},
   "outputs": [],
   "source": [
    "def memoize(f):\n",
    "    memo = {}\n",
    "    def helper(x):\n",
    "        if x not in memo:            \n",
    "            memo[x] = f(x)\n",
    "        return memo[x]\n",
    "    return helper"
   ]
  },
  {
   "cell_type": "code",
   "execution_count": 19,
   "metadata": {},
   "outputs": [
    {
     "name": "stdout",
     "output_type": "stream",
     "text": [
      "0\n",
      "1\n",
      "1\n",
      "2\n",
      "3\n",
      "5\n",
      "8\n",
      "13\n",
      "21\n"
     ]
    }
   ],
   "source": [
    "@memoize\n",
    "def fibonacci_rec(n):\n",
    "    if n == 1:\n",
    "        return 0\n",
    "    elif n == 2:\n",
    "        return 1\n",
    "    else:\n",
    "        return fibonacci_rec(n - 1) + fibonacci_rec(n - 2)\n",
    "for i in range(1, 10):\n",
    "    print(fibonacci_rec(i)) "
   ]
  },
  {
   "cell_type": "code",
   "execution_count": 12,
   "metadata": {},
   "outputs": [
    {
     "name": "stdout",
     "output_type": "stream",
     "text": [
      "0\n",
      "1\n",
      "1\n",
      "2\n",
      "3\n",
      "5\n",
      "8\n",
      "13\n",
      "21\n"
     ]
    }
   ],
   "source": [
    "def fibonacci_it(n):\n",
    "    if n == 1:\n",
    "        return 0\n",
    "    elif n == 2:\n",
    "        return 1\n",
    "    else:\n",
    "        i2, i1 = 0, 1\n",
    "        for i in range(3, n):\n",
    "            i2, i1 = i1, i1 + i2\n",
    "        return i2 + i1\n",
    "\n",
    "for i in range(1, 10):\n",
    "    print(fibonacci_it(i)) "
   ]
  },
  {
   "cell_type": "markdown",
   "metadata": {},
   "source": [
    "### Small Fibonacci number X-times"
   ]
  },
  {
   "cell_type": "code",
   "execution_count": 33,
   "metadata": {},
   "outputs": [
    {
     "data": {
      "text/plain": [
       "0.0003892279928550124"
      ]
     },
     "execution_count": 33,
     "metadata": {},
     "output_type": "execute_result"
    }
   ],
   "source": [
    "import timeit\n",
    "timer_fib_rec = timeit.Timer('fibonacci_rec(10)', 'from __main__ import fibonacci_rec')\n",
    "timer_fib_rec.timeit(number=1000)"
   ]
  },
  {
   "cell_type": "code",
   "execution_count": 34,
   "metadata": {},
   "outputs": [
    {
     "data": {
      "text/plain": [
       "0.001567107974551618"
      ]
     },
     "execution_count": 34,
     "metadata": {},
     "output_type": "execute_result"
    }
   ],
   "source": [
    "timer_fib_it = timeit.Timer('fibonacci_it(10)', 'from __main__ import fibonacci_it')\n",
    "timer_fib_it.timeit(number=1000)"
   ]
  },
  {
   "cell_type": "markdown",
   "metadata": {},
   "source": [
    "### High Fibonacci number once"
   ]
  },
  {
   "cell_type": "code",
   "execution_count": 37,
   "metadata": {},
   "outputs": [
    {
     "ename": "RecursionError",
     "evalue": "maximum recursion depth exceeded in comparison",
     "output_type": "error",
     "traceback": [
      "\u001b[0;31m---------------------------------------------------------------------------\u001b[0m",
      "\u001b[0;31mRecursionError\u001b[0m                            Traceback (most recent call last)",
      "\u001b[0;32m<ipython-input-37-e9c114251f0c>\u001b[0m in \u001b[0;36m<module>\u001b[0;34m()\u001b[0m\n\u001b[1;32m      1\u001b[0m \u001b[0mtimer_fib_rec\u001b[0m \u001b[0;34m=\u001b[0m \u001b[0mtimeit\u001b[0m\u001b[0;34m.\u001b[0m\u001b[0mTimer\u001b[0m\u001b[0;34m(\u001b[0m\u001b[0;34m'fibonacci_rec(10000)'\u001b[0m\u001b[0;34m,\u001b[0m \u001b[0;34m'from __main__ import fibonacci_rec'\u001b[0m\u001b[0;34m)\u001b[0m\u001b[0;34m\u001b[0m\u001b[0m\n\u001b[0;32m----> 2\u001b[0;31m \u001b[0mtimer_fib_rec\u001b[0m\u001b[0;34m.\u001b[0m\u001b[0mtimeit\u001b[0m\u001b[0;34m(\u001b[0m\u001b[0mnumber\u001b[0m\u001b[0;34m=\u001b[0m\u001b[0;36m1\u001b[0m\u001b[0;34m)\u001b[0m\u001b[0;34m\u001b[0m\u001b[0m\n\u001b[0m",
      "\u001b[0;32m/work1/sw/anaconda3/lib/python3.6/timeit.py\u001b[0m in \u001b[0;36mtimeit\u001b[0;34m(self, number)\u001b[0m\n\u001b[1;32m    176\u001b[0m         \u001b[0mgc\u001b[0m\u001b[0;34m.\u001b[0m\u001b[0mdisable\u001b[0m\u001b[0;34m(\u001b[0m\u001b[0;34m)\u001b[0m\u001b[0;34m\u001b[0m\u001b[0m\n\u001b[1;32m    177\u001b[0m         \u001b[0;32mtry\u001b[0m\u001b[0;34m:\u001b[0m\u001b[0;34m\u001b[0m\u001b[0m\n\u001b[0;32m--> 178\u001b[0;31m             \u001b[0mtiming\u001b[0m \u001b[0;34m=\u001b[0m \u001b[0mself\u001b[0m\u001b[0;34m.\u001b[0m\u001b[0minner\u001b[0m\u001b[0;34m(\u001b[0m\u001b[0mit\u001b[0m\u001b[0;34m,\u001b[0m \u001b[0mself\u001b[0m\u001b[0;34m.\u001b[0m\u001b[0mtimer\u001b[0m\u001b[0;34m)\u001b[0m\u001b[0;34m\u001b[0m\u001b[0m\n\u001b[0m\u001b[1;32m    179\u001b[0m         \u001b[0;32mfinally\u001b[0m\u001b[0;34m:\u001b[0m\u001b[0;34m\u001b[0m\u001b[0m\n\u001b[1;32m    180\u001b[0m             \u001b[0;32mif\u001b[0m \u001b[0mgcold\u001b[0m\u001b[0;34m:\u001b[0m\u001b[0;34m\u001b[0m\u001b[0m\n",
      "\u001b[0;32m/work1/sw/anaconda3/lib/python3.6/timeit.py\u001b[0m in \u001b[0;36minner\u001b[0;34m(_it, _timer)\u001b[0m\n",
      "\u001b[0;32m<ipython-input-8-ec7875c191f2>\u001b[0m in \u001b[0;36mhelper\u001b[0;34m(x)\u001b[0m\n\u001b[1;32m      3\u001b[0m     \u001b[0;32mdef\u001b[0m \u001b[0mhelper\u001b[0m\u001b[0;34m(\u001b[0m\u001b[0mx\u001b[0m\u001b[0;34m)\u001b[0m\u001b[0;34m:\u001b[0m\u001b[0;34m\u001b[0m\u001b[0m\n\u001b[1;32m      4\u001b[0m         \u001b[0;32mif\u001b[0m \u001b[0mx\u001b[0m \u001b[0;32mnot\u001b[0m \u001b[0;32min\u001b[0m \u001b[0mmemo\u001b[0m\u001b[0;34m:\u001b[0m\u001b[0;34m\u001b[0m\u001b[0m\n\u001b[0;32m----> 5\u001b[0;31m             \u001b[0mmemo\u001b[0m\u001b[0;34m[\u001b[0m\u001b[0mx\u001b[0m\u001b[0;34m]\u001b[0m \u001b[0;34m=\u001b[0m \u001b[0mf\u001b[0m\u001b[0;34m(\u001b[0m\u001b[0mx\u001b[0m\u001b[0;34m)\u001b[0m\u001b[0;34m\u001b[0m\u001b[0m\n\u001b[0m\u001b[1;32m      6\u001b[0m         \u001b[0;32mreturn\u001b[0m \u001b[0mmemo\u001b[0m\u001b[0;34m[\u001b[0m\u001b[0mx\u001b[0m\u001b[0;34m]\u001b[0m\u001b[0;34m\u001b[0m\u001b[0m\n\u001b[1;32m      7\u001b[0m     \u001b[0;32mreturn\u001b[0m \u001b[0mhelper\u001b[0m\u001b[0;34m\u001b[0m\u001b[0m\n",
      "\u001b[0;32m<ipython-input-19-77bb38e9154e>\u001b[0m in \u001b[0;36mfibonacci_rec\u001b[0;34m(n)\u001b[0m\n\u001b[1;32m      6\u001b[0m         \u001b[0;32mreturn\u001b[0m \u001b[0;36m1\u001b[0m\u001b[0;34m\u001b[0m\u001b[0m\n\u001b[1;32m      7\u001b[0m     \u001b[0;32melse\u001b[0m\u001b[0;34m:\u001b[0m\u001b[0;34m\u001b[0m\u001b[0m\n\u001b[0;32m----> 8\u001b[0;31m         \u001b[0;32mreturn\u001b[0m \u001b[0mfibonacci_rec\u001b[0m\u001b[0;34m(\u001b[0m\u001b[0mn\u001b[0m \u001b[0;34m-\u001b[0m \u001b[0;36m1\u001b[0m\u001b[0;34m)\u001b[0m \u001b[0;34m+\u001b[0m \u001b[0mfibonacci_rec\u001b[0m\u001b[0;34m(\u001b[0m\u001b[0mn\u001b[0m \u001b[0;34m-\u001b[0m \u001b[0;36m2\u001b[0m\u001b[0;34m)\u001b[0m\u001b[0;34m\u001b[0m\u001b[0m\n\u001b[0m\u001b[1;32m      9\u001b[0m \u001b[0;32mfor\u001b[0m \u001b[0mi\u001b[0m \u001b[0;32min\u001b[0m \u001b[0mrange\u001b[0m\u001b[0;34m(\u001b[0m\u001b[0;36m1\u001b[0m\u001b[0;34m,\u001b[0m \u001b[0;36m10\u001b[0m\u001b[0;34m)\u001b[0m\u001b[0;34m:\u001b[0m\u001b[0;34m\u001b[0m\u001b[0m\n\u001b[1;32m     10\u001b[0m     \u001b[0mprint\u001b[0m\u001b[0;34m(\u001b[0m\u001b[0mfibonacci_rec\u001b[0m\u001b[0;34m(\u001b[0m\u001b[0mi\u001b[0m\u001b[0;34m)\u001b[0m\u001b[0;34m)\u001b[0m\u001b[0;34m\u001b[0m\u001b[0m\n",
      "... last 2 frames repeated, from the frame below ...\n",
      "\u001b[0;32m<ipython-input-8-ec7875c191f2>\u001b[0m in \u001b[0;36mhelper\u001b[0;34m(x)\u001b[0m\n\u001b[1;32m      3\u001b[0m     \u001b[0;32mdef\u001b[0m \u001b[0mhelper\u001b[0m\u001b[0;34m(\u001b[0m\u001b[0mx\u001b[0m\u001b[0;34m)\u001b[0m\u001b[0;34m:\u001b[0m\u001b[0;34m\u001b[0m\u001b[0m\n\u001b[1;32m      4\u001b[0m         \u001b[0;32mif\u001b[0m \u001b[0mx\u001b[0m \u001b[0;32mnot\u001b[0m \u001b[0;32min\u001b[0m \u001b[0mmemo\u001b[0m\u001b[0;34m:\u001b[0m\u001b[0;34m\u001b[0m\u001b[0m\n\u001b[0;32m----> 5\u001b[0;31m             \u001b[0mmemo\u001b[0m\u001b[0;34m[\u001b[0m\u001b[0mx\u001b[0m\u001b[0;34m]\u001b[0m \u001b[0;34m=\u001b[0m \u001b[0mf\u001b[0m\u001b[0;34m(\u001b[0m\u001b[0mx\u001b[0m\u001b[0;34m)\u001b[0m\u001b[0;34m\u001b[0m\u001b[0m\n\u001b[0m\u001b[1;32m      6\u001b[0m         \u001b[0;32mreturn\u001b[0m \u001b[0mmemo\u001b[0m\u001b[0;34m[\u001b[0m\u001b[0mx\u001b[0m\u001b[0;34m]\u001b[0m\u001b[0;34m\u001b[0m\u001b[0m\n\u001b[1;32m      7\u001b[0m     \u001b[0;32mreturn\u001b[0m \u001b[0mhelper\u001b[0m\u001b[0;34m\u001b[0m\u001b[0m\n",
      "\u001b[0;31mRecursionError\u001b[0m: maximum recursion depth exceeded in comparison"
     ]
    }
   ],
   "source": [
    "timer_fib_rec = timeit.Timer('fibonacci_rec(10000)', 'from __main__ import fibonacci_rec')\n",
    "timer_fib_rec.timeit(number=1)"
   ]
  },
  {
   "cell_type": "code",
   "execution_count": 36,
   "metadata": {},
   "outputs": [
    {
     "data": {
      "text/plain": [
       "0.005340024014003575"
      ]
     },
     "execution_count": 36,
     "metadata": {},
     "output_type": "execute_result"
    }
   ],
   "source": [
    "timer_fib_it = timeit.Timer('fibonacci_it(10000)', 'from __main__ import fibonacci_it')\n",
    "timer_fib_it.timeit(number=1)"
   ]
  },
  {
   "cell_type": "markdown",
   "metadata": {},
   "source": [
    "# Memoized recursive Fibonacci generator is a bit faster! But fails at high requested number!"
   ]
  }
 ],
 "metadata": {
  "kernelspec": {
   "display_name": "Python 3",
   "language": "python",
   "name": "python3"
  },
  "language_info": {
   "codemirror_mode": {
    "name": "ipython",
    "version": 3
   },
   "file_extension": ".py",
   "mimetype": "text/x-python",
   "name": "python",
   "nbconvert_exporter": "python",
   "pygments_lexer": "ipython3",
   "version": "3.6.5"
  }
 },
 "nbformat": 4,
 "nbformat_minor": 2
}
