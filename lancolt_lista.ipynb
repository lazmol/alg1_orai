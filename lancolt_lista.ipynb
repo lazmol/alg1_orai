{
 "cells": [
  {
   "cell_type": "markdown",
   "metadata": {},
   "source": [
    "# Lancolt lista"
   ]
  },
  {
   "cell_type": "markdown",
   "metadata": {},
   "source": [
    "Stack=verem =LIFO last in first out adatszerkezet, meg tud telni  \n",
    "heap=RAM-ban amit oprendsz kezel"
   ]
  },
  {
   "cell_type": "markdown",
   "metadata": {},
   "source": [
    "### c kod  \n",
    "int x = 3; stack-en jelenik meg  \n",
    "hogyan kersz memoriat:  \n",
    "int *y = new int(3);  pointer==referencia memoriacimet tud tarolni (ez python osszes objektumara igaz) pythontol fugg mikor teszi stack-re es mikor heap-re  \n",
    "pointer vs referencia??  \n",
    "delete y;  kezzel kell felszabaditani  \n",
    "lancolt listaval lehet tovabb szemetelni node-ok segitsegevel  "
   ]
  },
  {
   "cell_type": "markdown",
   "metadata": {},
   "source": [
    "## Fejelemes lancolt lista"
   ]
  },
  {
   "cell_type": "code",
   "execution_count": 1,
   "metadata": {},
   "outputs": [],
   "source": [
    "class Node():\n",
    "    def __init__(self, value=0, next_node=None):\n",
    "        self.value = value\n",
    "        self.next_node = next_node  # elore\n",
    "        # self.prev_node  # hatra mutato is lehet\n",
    "        # ciklikus is lehet utcso visszavisz elsore ..."
   ]
  },
  {
   "cell_type": "code",
   "execution_count": 2,
   "metadata": {},
   "outputs": [],
   "source": [
    "elso = Node(3)\n",
    "elso.next_node = Node(4)\n",
    "elso.next_node.next_node = Node(5)"
   ]
  },
  {
   "cell_type": "code",
   "execution_count": 3,
   "metadata": {},
   "outputs": [
    {
     "name": "stdout",
     "output_type": "stream",
     "text": [
      "3 4 5\n"
     ]
    }
   ],
   "source": [
    "print(elso.value, elso.next_node.value, elso.next_node.next_node.value)"
   ]
  },
  {
   "cell_type": "code",
   "execution_count": 4,
   "metadata": {},
   "outputs": [],
   "source": [
    "class MyList():\n",
    "    def __init__(self,):\n",
    "        self.head = None  # fejelemes lancolt lista\n",
    "        \n",
    "    def my_append(self, elem):\n",
    "        if not self.head:\n",
    "            self.head = Node(elem)\n",
    "        else:\n",
    "            act_node = self.head\n",
    "            while act_node.next_node:\n",
    "                act_node = act_node.next_node\n",
    "            act_node.next_node = Node(elem)\n",
    "\n",
    "    def my_print(self):\n",
    "        print(\"[\", end=\"\")\n",
    "        act_node = self.head\n",
    "        while act_node.next_node:\n",
    "            print(act_node.value, end=\", \")\n",
    "            act_node = act_node.next_node\n",
    "        print(act_node.value, end=\"\")\n",
    "        print(\"]\")"
   ]
  },
  {
   "cell_type": "code",
   "execution_count": 5,
   "metadata": {},
   "outputs": [],
   "source": [
    "class MyList():\n",
    "    def __init__(self,):\n",
    "        self.head = None  # lancolt lista\n",
    "        self.tail = self.head  # ez is\n",
    "\n",
    "    def my_append(self, elem):\n",
    "        if not self.head:\n",
    "            self.head = Node(elem)\n",
    "            self.tail = self.head\n",
    "        else:\n",
    "            self.tail.next_node = Node(elem)\n",
    "            self.tail = self.tail.next_node  \n",
    "\n",
    "    def my_print(self):\n",
    "        print(\"[\", end=\"\")\n",
    "        act_node = self.head\n",
    "        while act_node.next_node:\n",
    "            print(act_node.value, end=\", \")\n",
    "            act_node = act_node.next_node\n",
    "        print(act_node.value, end=\"\")\n",
    "        print(\"]\")"
   ]
  },
  {
   "cell_type": "code",
   "execution_count": 6,
   "metadata": {},
   "outputs": [
    {
     "name": "stdout",
     "output_type": "stream",
     "text": [
      "[3, 5, 2, 1, 9]\n"
     ]
    }
   ],
   "source": [
    "my_list = MyList()\n",
    "my_list.my_append(3)\n",
    "my_list.my_append(5)\n",
    "my_list.my_append(2)\n",
    "my_list.my_append(1)\n",
    "my_list.my_append(9)\n",
    "my_list.my_print()"
   ]
  },
  {
   "cell_type": "markdown",
   "metadata": {},
   "source": [
    "## HF: valahanyadik elem torlese es count implementalasa"
   ]
  },
  {
   "cell_type": "code",
   "execution_count": 9,
   "metadata": {},
   "outputs": [],
   "source": [
    "class SortedList():\n",
    "    def __init__(self,):\n",
    "        self.head = None  # lancolt lista\n",
    "        self.tail = self.head  # ez is\n",
    "\n",
    "    def sl_append(self, elem: int):  # type hint here\n",
    "        if not self.head:\n",
    "            self.head = Node(elem)\n",
    "            self.tail = self.head\n",
    "        else:\n",
    "            if elem <= self.head.value:\n",
    "                act_node = Node(elem)\n",
    "                act_node.next_node = self.head\n",
    "                self.head = act_node\n",
    "            elif self.tail.value <= elem:\n",
    "                act_node = Node(elem)\n",
    "                self.tail.next_node = act_node\n",
    "                self.tail = act_node\n",
    "            else:\n",
    "                prev_node = self.head\n",
    "                while prev_node.next_node.value < elem:\n",
    "                    prev_node = prev_node.next_node\n",
    "                    act_node = Node(elem)\n",
    "                    act_node.next_node = prev_node.next_node\n",
    "                    prev_node.next_node = act_node\n",
    "\n",
    "    def sl_print(self):\n",
    "        print(\"[\", end=\"\")\n",
    "        act_node = self.head\n",
    "        while act_node.next_node:\n",
    "            print(act_node.value, end=\", \")\n",
    "            act_node = act_node.next_node\n",
    "        print(act_node.value, end=\"\")\n",
    "        print(\"]\")\n",
    "\n",
    "    def sl_rev_print():\n",
    "        pass"
   ]
  },
  {
   "cell_type": "code",
   "execution_count": 12,
   "metadata": {},
   "outputs": [
    {
     "name": "stdout",
     "output_type": "stream",
     "text": [
      "[4]\n",
      "[4, 6]\n",
      "[4, 6]\n",
      "[3, 4, 6]\n",
      "[3, 4, 6, 7]\n"
     ]
    }
   ],
   "source": [
    "sl_list = SortedList()\n",
    "sl_list.sl_append(4)\n",
    "sl_list.sl_print()\n",
    "sl_list.sl_append(6)\n",
    "sl_list.sl_print()\n",
    "sl_list.sl_append(5)\n",
    "sl_list.sl_print()\n",
    "sl_list.sl_append(3)\n",
    "sl_list.sl_print()\n",
    "sl_list.sl_append(7)\n",
    "sl_list.sl_print()"
   ]
  },
  {
   "cell_type": "code",
   "execution_count": 11,
   "metadata": {},
   "outputs": [
    {
     "name": "stdout",
     "output_type": "stream",
     "text": [
      "[22861, 79035, 247019, 108092, 265593, 139975, 207310, 102278, 143784, 206659, 226671, 159968, 195446, 121661, 284341, 328158]\n"
     ]
    }
   ],
   "source": [
    "import random\n",
    "sl_list = SortedList()\n",
    "for i in range(20):\n",
    "    act_elem = random.randint(1, 345353)\n",
    "    sl_list.sl_append(act_elem)\n",
    "sl_list.sl_print()"
   ]
  },
  {
   "cell_type": "code",
   "execution_count": null,
   "metadata": {},
   "outputs": [],
   "source": []
  }
 ],
 "metadata": {
  "kernelspec": {
   "display_name": "Python 3",
   "language": "python",
   "name": "python3"
  },
  "language_info": {
   "codemirror_mode": {
    "name": "ipython",
    "version": 3
   },
   "file_extension": ".py",
   "mimetype": "text/x-python",
   "name": "python",
   "nbconvert_exporter": "python",
   "pygments_lexer": "ipython3",
   "version": "3.6.5"
  }
 },
 "nbformat": 4,
 "nbformat_minor": 2
}
