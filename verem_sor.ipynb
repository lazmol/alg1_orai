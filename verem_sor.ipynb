{
 "cells": [
  {
   "cell_type": "markdown",
   "metadata": {},
   "source": [
    "# Verem"
   ]
  },
  {
   "cell_type": "markdown",
   "metadata": {},
   "source": [
    "## LIFO adatszerkezet, muveletei: push/pop, top,isempty,size"
   ]
  },
  {
   "cell_type": "code",
   "execution_count": 29,
   "metadata": {},
   "outputs": [],
   "source": [
    "class Node:\n",
    "    def __init__(self, value):\n",
    "        self.value = value\n",
    "        self.prev_node = None\n",
    "\n",
    "class Stack:\n",
    "    def __init__(self):\n",
    "        self.top = None\n",
    "        self.size = 0\n",
    "    \n",
    "    def push(self, elem):\n",
    "        if self.top is None:\n",
    "            self.top = Node(elem)\n",
    "        else:\n",
    "            new_node = Node(elem)\n",
    "            new_node.prev_node = self.top\n",
    "            self.top = new_node\n",
    "        self.size += 1\n",
    "    \n",
    "    def pop(self):\n",
    "        if self.top != None:\n",
    "            top_value = self.top.value\n",
    "            self.top = self.top.prev_node  # works even with size 1: will be None\n",
    "            self.size -= 1\n",
    "            return top_value\n",
    "        \n",
    "    def top(self):\n",
    "        return self.top.value\n",
    "    \n",
    "    def is_empty(self):\n",
    "        return self.top is None\n",
    "    \n",
    "    def size(self):\n",
    "        return self.size\n",
    "    \n",
    "    def show_stack(self):\n",
    "        act_node = self.top\n",
    "        while act_node is not None:\n",
    "            print(act_node.value, end=' ')\n",
    "            act_node = act_node.prev_node\n",
    "        print()\n",
    "        \n",
    "    def __repr__(self):\n",
    "        print_str = ''\n",
    "        act_node = self.top\n",
    "        while act_node is not None:\n",
    "            print(act_node.value, end=' ')\n",
    "            act_node = act_node.prev_node\n",
    "        \n",
    "        return print_str\n",
    "        \n",
    "            \n",
    "    "
   ]
  },
  {
   "cell_type": "code",
   "execution_count": 30,
   "metadata": {},
   "outputs": [
    {
     "name": "stdout",
     "output_type": "stream",
     "text": [
      "1 \n",
      "3 1 \n",
      "5 1 \n"
     ]
    }
   ],
   "source": [
    "stack = Stack()\n",
    "stack.push(1)\n",
    "stack.show_stack()\n",
    "stack.push(3)\n",
    "stack.show_stack()\n",
    "stack.pop()\n",
    "stack.push(5)\n",
    "stack.show_stack()"
   ]
  },
  {
   "cell_type": "markdown",
   "metadata": {},
   "source": [
    "## Hasznalat 1: muvelet zarojelezes"
   ]
  },
  {
   "cell_type": "code",
   "execution_count": 33,
   "metadata": {},
   "outputs": [],
   "source": [
    "def is_correct_brackets(expr):\n",
    "    stack = Stack()\n",
    "    for l in expr:\n",
    "        if l == '(':\n",
    "            stack.push(l)\n",
    "        elif l == ')':\n",
    "            if stack.is_empty():\n",
    "                return False\n",
    "            else:\n",
    "                stack.pop()\n",
    "    return stack.is_empty()        "
   ]
  },
  {
   "cell_type": "code",
   "execution_count": 34,
   "metadata": {},
   "outputs": [
    {
     "name": "stdout",
     "output_type": "stream",
     "text": [
      "True\n",
      "False\n"
     ]
    }
   ],
   "source": [
    "print(is_correct_brackets('()'))\n",
    "print(is_correct_brackets('((((aad)))))'))"
   ]
  },
  {
   "cell_type": "markdown",
   "metadata": {},
   "source": [
    "## Hasznalat 2: szamrendszerbe atkonvertalas"
   ]
  },
  {
   "cell_type": "code",
   "execution_count": 35,
   "metadata": {},
   "outputs": [],
   "source": [
    "def binary(number):\n",
    "    stack = Stack()\n",
    "    while number != 0:\n",
    "        stack.push(number % 2)\n",
    "        number //= 2\n",
    "    result = ''\n",
    "    while not stack.is_empty():\n",
    "        result += str(stack.pop())\n",
    "    return result"
   ]
  },
  {
   "cell_type": "code",
   "execution_count": 37,
   "metadata": {},
   "outputs": [
    {
     "name": "stdout",
     "output_type": "stream",
     "text": [
      "1000\n",
      "1101\n"
     ]
    }
   ],
   "source": [
    "print(binary(8))\n",
    "print(binary(13))"
   ]
  },
  {
   "cell_type": "code",
   "execution_count": null,
   "metadata": {},
   "outputs": [],
   "source": [
    "# HF barmilyen szamrendszerbe, rekurzivan is"
   ]
  },
  {
   "cell_type": "code",
   "execution_count": null,
   "metadata": {},
   "outputs": [],
   "source": [
    "def deci_to_other(number)"
   ]
  },
  {
   "cell_type": "code",
   "execution_count": null,
   "metadata": {},
   "outputs": [],
   "source": []
  },
  {
   "cell_type": "markdown",
   "metadata": {},
   "source": [
    "## Hasznalat 3: szo anagrammaja ugyanaz-e"
   ]
  },
  {
   "cell_type": "code",
   "execution_count": null,
   "metadata": {},
   "outputs": [],
   "source": []
  },
  {
   "cell_type": "markdown",
   "metadata": {},
   "source": [
    "# SOR  \n",
    "## FIFO adatszerkezet"
   ]
  },
  {
   "cell_type": "code",
   "execution_count": null,
   "metadata": {},
   "outputs": [],
   "source": [
    "# ugyanaz mint a multkori lancolt lista"
   ]
  },
  {
   "cell_type": "code",
   "execution_count": 1,
   "metadata": {},
   "outputs": [],
   "source": [
    "class Node:\n",
    "    def __init__(self, value):\n",
    "        self.value = value\n",
    "        self.prev_node = None\n",
    "\n",
    "class Queue:\n",
    "    def __init__(self):\n",
    "        # first last implementalni hogy gyorsabb legyen\n",
    "        self.firrst = None\n",
    "        self.last = None\n",
    "        self.size = 0\n",
    "    \n",
    "    def push(self, elem):\n",
    "        if self.first is None:\n",
    "            self.first = Node(elem)\n",
    "            self.last = self.first\n",
    "        else:\n",
    "            new_node = Node(elem)\n",
    "            self.last.prev_node - new_noe\n",
    "            self.last - new_node\n",
    "        self.size += 1\n",
    "    \n",
    "    def pop(self):\n",
    "        if self.first != None:\n",
    "            first_value - self.first.value\n",
    "            self.first = self.first.prev_node  # works even with size 1: will be None\n",
    "            self.size -= 1\n",
    "            return first_value\n",
    "\n",
    "    def first(self):\n",
    "        return self.first.value\n",
    "    \n",
    "    def is_empty(self):\n",
    "        return self.first is None\n",
    "    \n",
    "    def size(self):\n",
    "        return self.size\n",
    "    \n",
    "    def show_queue(self):\n",
    "        act_node = self.first\n",
    "        while act_node is not None:\n",
    "            print(act_node.value, end=' ')\n",
    "            act_node = act_node.prev_node\n",
    "        print()"
   ]
  },
  {
   "cell_type": "code",
   "execution_count": 2,
   "metadata": {},
   "outputs": [
    {
     "ename": "AttributeError",
     "evalue": "'NoneType' object has no attribute 'prev_node'",
     "output_type": "error",
     "traceback": [
      "\u001b[0;31m---------------------------------------------------------------------------\u001b[0m",
      "\u001b[0;31mAttributeError\u001b[0m                            Traceback (most recent call last)",
      "\u001b[0;32m<ipython-input-2-ccf813b829a4>\u001b[0m in \u001b[0;36m<module>\u001b[0;34m()\u001b[0m\n\u001b[1;32m      1\u001b[0m \u001b[0mq\u001b[0m \u001b[0;34m=\u001b[0m \u001b[0mQueue\u001b[0m\u001b[0;34m(\u001b[0m\u001b[0;34m)\u001b[0m\u001b[0;34m\u001b[0m\u001b[0m\n\u001b[0;32m----> 2\u001b[0;31m \u001b[0mq\u001b[0m\u001b[0;34m.\u001b[0m\u001b[0mpush\u001b[0m\u001b[0;34m(\u001b[0m\u001b[0;36m1\u001b[0m\u001b[0;34m)\u001b[0m\u001b[0;34m\u001b[0m\u001b[0m\n\u001b[0m\u001b[1;32m      3\u001b[0m \u001b[0mq\u001b[0m\u001b[0;34m.\u001b[0m\u001b[0mshow_queue\u001b[0m\u001b[0;34m(\u001b[0m\u001b[0;34m)\u001b[0m\u001b[0;34m\u001b[0m\u001b[0m\n\u001b[1;32m      4\u001b[0m \u001b[0mq\u001b[0m\u001b[0;34m.\u001b[0m\u001b[0mpush\u001b[0m\u001b[0;34m(\u001b[0m\u001b[0;36m3\u001b[0m\u001b[0;34m)\u001b[0m\u001b[0;34m\u001b[0m\u001b[0m\n\u001b[1;32m      5\u001b[0m \u001b[0mprint\u001b[0m\u001b[0;34m(\u001b[0m\u001b[0;34m'sieze'\u001b[0m\u001b[0;34m,\u001b[0m \u001b[0mq\u001b[0m\u001b[0;34m.\u001b[0m\u001b[0msize\u001b[0m\u001b[0;34m)\u001b[0m\u001b[0;34m\u001b[0m\u001b[0m\n",
      "\u001b[0;32m<ipython-input-1-59e282251cd4>\u001b[0m in \u001b[0;36mpush\u001b[0;34m(self, elem)\u001b[0m\n\u001b[1;32m     17\u001b[0m         \u001b[0;32melse\u001b[0m\u001b[0;34m:\u001b[0m\u001b[0;34m\u001b[0m\u001b[0m\n\u001b[1;32m     18\u001b[0m             \u001b[0mnew_node\u001b[0m \u001b[0;34m=\u001b[0m \u001b[0mNode\u001b[0m\u001b[0;34m(\u001b[0m\u001b[0melem\u001b[0m\u001b[0;34m)\u001b[0m\u001b[0;34m\u001b[0m\u001b[0m\n\u001b[0;32m---> 19\u001b[0;31m             \u001b[0mself\u001b[0m\u001b[0;34m.\u001b[0m\u001b[0mlast\u001b[0m\u001b[0;34m.\u001b[0m\u001b[0mprev_node\u001b[0m \u001b[0;34m-\u001b[0m \u001b[0mnew_noe\u001b[0m\u001b[0;34m\u001b[0m\u001b[0m\n\u001b[0m\u001b[1;32m     20\u001b[0m             \u001b[0mself\u001b[0m\u001b[0;34m.\u001b[0m\u001b[0mlast\u001b[0m \u001b[0;34m-\u001b[0m \u001b[0mnew_node\u001b[0m\u001b[0;34m\u001b[0m\u001b[0m\n\u001b[1;32m     21\u001b[0m         \u001b[0mself\u001b[0m\u001b[0;34m.\u001b[0m\u001b[0msize\u001b[0m \u001b[0;34m+=\u001b[0m \u001b[0;36m1\u001b[0m\u001b[0;34m\u001b[0m\u001b[0m\n",
      "\u001b[0;31mAttributeError\u001b[0m: 'NoneType' object has no attribute 'prev_node'"
     ]
    }
   ],
   "source": [
    "q = Queue()\n",
    "q.push(1)\n",
    "q.show_queue()\n",
    "q.push(3)\n",
    "print('sieze', q.size)\n",
    "q.show_queue()\n",
    "q.pop()\n",
    "q.show_queue()\n",
    "q.push(5)\n",
    "q.show_queue()"
   ]
  },
  {
   "cell_type": "code",
   "execution_count": null,
   "metadata": {},
   "outputs": [],
   "source": []
  },
  {
   "cell_type": "code",
   "execution_count": null,
   "metadata": {},
   "outputs": [],
   "source": [
    "# fa interju kerdes hogy oldanad meg mekkora legnegyobb tav ket elem kozott"
   ]
  }
 ],
 "metadata": {
  "kernelspec": {
   "display_name": "Python 3",
   "language": "python",
   "name": "python3"
  },
  "language_info": {
   "codemirror_mode": {
    "name": "ipython",
    "version": 3
   },
   "file_extension": ".py",
   "mimetype": "text/x-python",
   "name": "python",
   "nbconvert_exporter": "python",
   "pygments_lexer": "ipython3",
   "version": "3.6.5"
  }
 },
 "nbformat": 4,
 "nbformat_minor": 2
}
