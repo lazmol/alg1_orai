{
 "cells": [
  {
   "cell_type": "markdown",
   "metadata": {},
   "source": [
    "# Nagyon nagy szamok\n",
    "\n",
    "Lancolt lista segitsegevel valositsd meg a nagy szamok tipusat.\n",
    "\n",
    "Mukodes:\n",
    "- **Konstruktor**: egy stringet kapjon (\"2323413235343\"), amibol felepiti a listat\n",
    "- **Kiiras**: valositsd meg a szam kiirasat vegzo bn_print() fgv-t\n",
    "- **Muveletek**: valositsd meg a tipuson az osszeadas es kivonas muveletet (az eredmeny egy uj objektum legyen)"
   ]
  },
  {
   "cell_type": "code",
   "execution_count": 3,
   "metadata": {},
   "outputs": [],
   "source": [
    "# class of big numbers\n",
    "class BigNumber():\n",
    "    class Node:\n",
    "        def __init__(self, value=0, index=0, next_node=None, prev_node=None):\n",
    "            self.value = value\n",
    "            self.index = index\n",
    "            self.next_node = next_node\n",
    "            self.prev_node = prev_node\n",
    "\n",
    "    def __init__(self, value: str):\n",
    "        self.head = None\n",
    "        self.tail = self.head\n",
    "        self.len = 0\n",
    "        for num in reversed(value.lstrip('0')):  # head is in the zeroth place value\n",
    "            self.bn_append(int(num))\n",
    "        \n",
    "    def bn_append(self, num: int):\n",
    "        if not self.head:\n",
    "            self.head = self.Node(num)\n",
    "            self.tail = self.head\n",
    "        else:\n",
    "            self.tail.next_node = self.Node(num, prev_node=self.tail, index=self.tail.index + 1)\n",
    "            self.tail = self.tail.next_node\n",
    "        self.len += 1\n",
    "    \n",
    "    def bn_print(self):\n",
    "        act_node = self.tail\n",
    "        while act_node.prev_node is not None:\n",
    "            print(act_node.value, end=\"\")\n",
    "            act_node = act_node.prev_node\n",
    "        print(act_node.value)\n",
    "\n",
    "    def bn_add(self, other: 'BigNumber'):\n",
    "        node_other = other.head\n",
    "        node_self = self.head\n",
    "        result = BigNumber(\"\")\n",
    "        extra = 0\n",
    "        for place in range(max((self.len, other.len))):\n",
    "            val_self = node_self.value if node_self is not None else 0\n",
    "            val_other = node_other.value if node_other is not None else 0\n",
    "            new_value = val_other + val_self + extra\n",
    "            # print(val_other, val_self, new_value, print(type(val_other)))\n",
    "            if new_value >= 10:\n",
    "                result.bn_append(new_value - 10)\n",
    "                extra = 1\n",
    "            else:\n",
    "                result.bn_append(new_value)\n",
    "                extra = 0\n",
    "            node_other = node_other.next_node if node_other is not None else None\n",
    "            node_self = node_self.next_node if node_self is not None else None\n",
    "        if extra:\n",
    "            result.bn_append(extra)\n",
    "\n",
    "        return result\n",
    "\n",
    "    def _strip_leading_zeros(self):\n",
    "        cur_node = self.tail\n",
    "        while not cur_node.value:\n",
    "            self.tail = cur_node.prev_node\n",
    "            self.tail.next_node = None\n",
    "            self.len -= 1\n",
    "            cur_node = self.tail\n",
    "    \n",
    "    def bn_sub(self, other: 'BigNumber'):\n",
    "        node_other = other.head\n",
    "        node_self = self.head\n",
    "        result = BigNumber(\"\")\n",
    "        extra = 0\n",
    "        for place in range(max((self.len, other.len))):\n",
    "            val_self = node_self.value if node_self is not None else 0\n",
    "            val_other = node_other.value if node_other is not None else 0\n",
    "            new_value = val_self - val_other - extra\n",
    "            # print(val_other, val_self, new_value)\n",
    "            if new_value < 0:\n",
    "                result.bn_append(new_value + 10)\n",
    "                extra = 1\n",
    "            else:\n",
    "                result.bn_append(new_value)\n",
    "                extra = 0\n",
    "            node_other = node_other.next_node if node_other is not None else None\n",
    "            node_self = node_self.next_node if node_self is not None else None\n",
    "        result._strip_leading_zeros()\n",
    "\n",
    "        return result"
   ]
  },
  {
   "cell_type": "code",
   "execution_count": 4,
   "metadata": {},
   "outputs": [
    {
     "name": "stdout",
     "output_type": "stream",
     "text": [
      "1268\n"
     ]
    }
   ],
   "source": [
    "bn1 = BigNumber(\"1268\")\n",
    "bn1.bn_print()"
   ]
  },
  {
   "cell_type": "code",
   "execution_count": 5,
   "metadata": {},
   "outputs": [
    {
     "name": "stdout",
     "output_type": "stream",
     "text": [
      "9143\n"
     ]
    }
   ],
   "source": [
    "bn2 = BigNumber(\"9143\")\n",
    "bn2.bn_print()"
   ]
  },
  {
   "cell_type": "code",
   "execution_count": 6,
   "metadata": {},
   "outputs": [
    {
     "name": "stdout",
     "output_type": "stream",
     "text": [
      "10411\n"
     ]
    }
   ],
   "source": [
    "bn_sum = bn1.bn_add(bn2)\n",
    "bn_sum.bn_print()"
   ]
  },
  {
   "cell_type": "code",
   "execution_count": 7,
   "metadata": {},
   "outputs": [
    {
     "name": "stdout",
     "output_type": "stream",
     "text": [
      "999\n"
     ]
    }
   ],
   "source": [
    "bn_sub = bn1.bn_sub(BigNumber(\"269\"))\n",
    "bn_sub.bn_print()"
   ]
  },
  {
   "cell_type": "code",
   "execution_count": null,
   "metadata": {},
   "outputs": [],
   "source": []
  },
  {
   "cell_type": "code",
   "execution_count": null,
   "metadata": {},
   "outputs": [],
   "source": []
  }
 ],
 "metadata": {
  "kernelspec": {
   "display_name": "Python 3",
   "language": "python",
   "name": "python3"
  },
  "language_info": {
   "codemirror_mode": {
    "name": "ipython",
    "version": 3
   },
   "file_extension": ".py",
   "mimetype": "text/x-python",
   "name": "python",
   "nbconvert_exporter": "python",
   "pygments_lexer": "ipython3",
   "version": "3.6.5"
  }
 },
 "nbformat": 4,
 "nbformat_minor": 2
}
